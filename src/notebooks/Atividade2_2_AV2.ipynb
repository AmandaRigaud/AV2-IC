{
  "cells": [
    {
      "cell_type": "code",
      "execution_count": null,
      "metadata": {
        "colab": {
          "base_uri": "https://localhost:8080/",
          "height": 206
        },
        "id": "26BggkAZiyYF",
        "outputId": "ddcb44e0-1ca9-4f00-9950-f401d3bae32d"
      },
      "outputs": [
        {
          "output_type": "execute_result",
          "data": {
            "text/plain": [
              "         date   open   high    low  close    volume Name\n",
              "0  2013-02-08  15.07  15.12  14.63  14.75   8407500  AAL\n",
              "1  2013-02-11  14.89  15.01  14.26  14.46   8882000  AAL\n",
              "2  2013-02-12  14.45  14.51  14.10  14.27   8126000  AAL\n",
              "3  2013-02-13  14.30  14.94  14.25  14.66  10259500  AAL\n",
              "4  2013-02-14  14.94  14.96  13.16  13.99  31879900  AAL"
            ],
            "text/html": [
              "\n",
              "  <div id=\"df-4b3e1fdb-6b56-4dd9-bb53-827b5fd29517\" class=\"colab-df-container\">\n",
              "    <div>\n",
              "<style scoped>\n",
              "    .dataframe tbody tr th:only-of-type {\n",
              "        vertical-align: middle;\n",
              "    }\n",
              "\n",
              "    .dataframe tbody tr th {\n",
              "        vertical-align: top;\n",
              "    }\n",
              "\n",
              "    .dataframe thead th {\n",
              "        text-align: right;\n",
              "    }\n",
              "</style>\n",
              "<table border=\"1\" class=\"dataframe\">\n",
              "  <thead>\n",
              "    <tr style=\"text-align: right;\">\n",
              "      <th></th>\n",
              "      <th>date</th>\n",
              "      <th>open</th>\n",
              "      <th>high</th>\n",
              "      <th>low</th>\n",
              "      <th>close</th>\n",
              "      <th>volume</th>\n",
              "      <th>Name</th>\n",
              "    </tr>\n",
              "  </thead>\n",
              "  <tbody>\n",
              "    <tr>\n",
              "      <th>0</th>\n",
              "      <td>2013-02-08</td>\n",
              "      <td>15.07</td>\n",
              "      <td>15.12</td>\n",
              "      <td>14.63</td>\n",
              "      <td>14.75</td>\n",
              "      <td>8407500</td>\n",
              "      <td>AAL</td>\n",
              "    </tr>\n",
              "    <tr>\n",
              "      <th>1</th>\n",
              "      <td>2013-02-11</td>\n",
              "      <td>14.89</td>\n",
              "      <td>15.01</td>\n",
              "      <td>14.26</td>\n",
              "      <td>14.46</td>\n",
              "      <td>8882000</td>\n",
              "      <td>AAL</td>\n",
              "    </tr>\n",
              "    <tr>\n",
              "      <th>2</th>\n",
              "      <td>2013-02-12</td>\n",
              "      <td>14.45</td>\n",
              "      <td>14.51</td>\n",
              "      <td>14.10</td>\n",
              "      <td>14.27</td>\n",
              "      <td>8126000</td>\n",
              "      <td>AAL</td>\n",
              "    </tr>\n",
              "    <tr>\n",
              "      <th>3</th>\n",
              "      <td>2013-02-13</td>\n",
              "      <td>14.30</td>\n",
              "      <td>14.94</td>\n",
              "      <td>14.25</td>\n",
              "      <td>14.66</td>\n",
              "      <td>10259500</td>\n",
              "      <td>AAL</td>\n",
              "    </tr>\n",
              "    <tr>\n",
              "      <th>4</th>\n",
              "      <td>2013-02-14</td>\n",
              "      <td>14.94</td>\n",
              "      <td>14.96</td>\n",
              "      <td>13.16</td>\n",
              "      <td>13.99</td>\n",
              "      <td>31879900</td>\n",
              "      <td>AAL</td>\n",
              "    </tr>\n",
              "  </tbody>\n",
              "</table>\n",
              "</div>\n",
              "    <div class=\"colab-df-buttons\">\n",
              "\n",
              "  <div class=\"colab-df-container\">\n",
              "    <button class=\"colab-df-convert\" onclick=\"convertToInteractive('df-4b3e1fdb-6b56-4dd9-bb53-827b5fd29517')\"\n",
              "            title=\"Convert this dataframe to an interactive table.\"\n",
              "            style=\"display:none;\">\n",
              "\n",
              "  <svg xmlns=\"http://www.w3.org/2000/svg\" height=\"24px\" viewBox=\"0 -960 960 960\">\n",
              "    <path d=\"M120-120v-720h720v720H120Zm60-500h600v-160H180v160Zm220 220h160v-160H400v160Zm0 220h160v-160H400v160ZM180-400h160v-160H180v160Zm440 0h160v-160H620v160ZM180-180h160v-160H180v160Zm440 0h160v-160H620v160Z\"/>\n",
              "  </svg>\n",
              "    </button>\n",
              "\n",
              "  <style>\n",
              "    .colab-df-container {\n",
              "      display:flex;\n",
              "      gap: 12px;\n",
              "    }\n",
              "\n",
              "    .colab-df-convert {\n",
              "      background-color: #E8F0FE;\n",
              "      border: none;\n",
              "      border-radius: 50%;\n",
              "      cursor: pointer;\n",
              "      display: none;\n",
              "      fill: #1967D2;\n",
              "      height: 32px;\n",
              "      padding: 0 0 0 0;\n",
              "      width: 32px;\n",
              "    }\n",
              "\n",
              "    .colab-df-convert:hover {\n",
              "      background-color: #E2EBFA;\n",
              "      box-shadow: 0px 1px 2px rgba(60, 64, 67, 0.3), 0px 1px 3px 1px rgba(60, 64, 67, 0.15);\n",
              "      fill: #174EA6;\n",
              "    }\n",
              "\n",
              "    .colab-df-buttons div {\n",
              "      margin-bottom: 4px;\n",
              "    }\n",
              "\n",
              "    [theme=dark] .colab-df-convert {\n",
              "      background-color: #3B4455;\n",
              "      fill: #D2E3FC;\n",
              "    }\n",
              "\n",
              "    [theme=dark] .colab-df-convert:hover {\n",
              "      background-color: #434B5C;\n",
              "      box-shadow: 0px 1px 3px 1px rgba(0, 0, 0, 0.15);\n",
              "      filter: drop-shadow(0px 1px 2px rgba(0, 0, 0, 0.3));\n",
              "      fill: #FFFFFF;\n",
              "    }\n",
              "  </style>\n",
              "\n",
              "    <script>\n",
              "      const buttonEl =\n",
              "        document.querySelector('#df-4b3e1fdb-6b56-4dd9-bb53-827b5fd29517 button.colab-df-convert');\n",
              "      buttonEl.style.display =\n",
              "        google.colab.kernel.accessAllowed ? 'block' : 'none';\n",
              "\n",
              "      async function convertToInteractive(key) {\n",
              "        const element = document.querySelector('#df-4b3e1fdb-6b56-4dd9-bb53-827b5fd29517');\n",
              "        const dataTable =\n",
              "          await google.colab.kernel.invokeFunction('convertToInteractive',\n",
              "                                                    [key], {});\n",
              "        if (!dataTable) return;\n",
              "\n",
              "        const docLinkHtml = 'Like what you see? Visit the ' +\n",
              "          '<a target=\"_blank\" href=https://colab.research.google.com/notebooks/data_table.ipynb>data table notebook</a>'\n",
              "          + ' to learn more about interactive tables.';\n",
              "        element.innerHTML = '';\n",
              "        dataTable['output_type'] = 'display_data';\n",
              "        await google.colab.output.renderOutput(dataTable, element);\n",
              "        const docLink = document.createElement('div');\n",
              "        docLink.innerHTML = docLinkHtml;\n",
              "        element.appendChild(docLink);\n",
              "      }\n",
              "    </script>\n",
              "  </div>\n",
              "\n",
              "\n",
              "<div id=\"df-b386b848-ac09-47ff-820a-50b544acd313\">\n",
              "  <button class=\"colab-df-quickchart\" onclick=\"quickchart('df-b386b848-ac09-47ff-820a-50b544acd313')\"\n",
              "            title=\"Suggest charts\"\n",
              "            style=\"display:none;\">\n",
              "\n",
              "<svg xmlns=\"http://www.w3.org/2000/svg\" height=\"24px\"viewBox=\"0 0 24 24\"\n",
              "     width=\"24px\">\n",
              "    <g>\n",
              "        <path d=\"M19 3H5c-1.1 0-2 .9-2 2v14c0 1.1.9 2 2 2h14c1.1 0 2-.9 2-2V5c0-1.1-.9-2-2-2zM9 17H7v-7h2v7zm4 0h-2V7h2v10zm4 0h-2v-4h2v4z\"/>\n",
              "    </g>\n",
              "</svg>\n",
              "  </button>\n",
              "\n",
              "<style>\n",
              "  .colab-df-quickchart {\n",
              "      --bg-color: #E8F0FE;\n",
              "      --fill-color: #1967D2;\n",
              "      --hover-bg-color: #E2EBFA;\n",
              "      --hover-fill-color: #174EA6;\n",
              "      --disabled-fill-color: #AAA;\n",
              "      --disabled-bg-color: #DDD;\n",
              "  }\n",
              "\n",
              "  [theme=dark] .colab-df-quickchart {\n",
              "      --bg-color: #3B4455;\n",
              "      --fill-color: #D2E3FC;\n",
              "      --hover-bg-color: #434B5C;\n",
              "      --hover-fill-color: #FFFFFF;\n",
              "      --disabled-bg-color: #3B4455;\n",
              "      --disabled-fill-color: #666;\n",
              "  }\n",
              "\n",
              "  .colab-df-quickchart {\n",
              "    background-color: var(--bg-color);\n",
              "    border: none;\n",
              "    border-radius: 50%;\n",
              "    cursor: pointer;\n",
              "    display: none;\n",
              "    fill: var(--fill-color);\n",
              "    height: 32px;\n",
              "    padding: 0;\n",
              "    width: 32px;\n",
              "  }\n",
              "\n",
              "  .colab-df-quickchart:hover {\n",
              "    background-color: var(--hover-bg-color);\n",
              "    box-shadow: 0 1px 2px rgba(60, 64, 67, 0.3), 0 1px 3px 1px rgba(60, 64, 67, 0.15);\n",
              "    fill: var(--button-hover-fill-color);\n",
              "  }\n",
              "\n",
              "  .colab-df-quickchart-complete:disabled,\n",
              "  .colab-df-quickchart-complete:disabled:hover {\n",
              "    background-color: var(--disabled-bg-color);\n",
              "    fill: var(--disabled-fill-color);\n",
              "    box-shadow: none;\n",
              "  }\n",
              "\n",
              "  .colab-df-spinner {\n",
              "    border: 2px solid var(--fill-color);\n",
              "    border-color: transparent;\n",
              "    border-bottom-color: var(--fill-color);\n",
              "    animation:\n",
              "      spin 1s steps(1) infinite;\n",
              "  }\n",
              "\n",
              "  @keyframes spin {\n",
              "    0% {\n",
              "      border-color: transparent;\n",
              "      border-bottom-color: var(--fill-color);\n",
              "      border-left-color: var(--fill-color);\n",
              "    }\n",
              "    20% {\n",
              "      border-color: transparent;\n",
              "      border-left-color: var(--fill-color);\n",
              "      border-top-color: var(--fill-color);\n",
              "    }\n",
              "    30% {\n",
              "      border-color: transparent;\n",
              "      border-left-color: var(--fill-color);\n",
              "      border-top-color: var(--fill-color);\n",
              "      border-right-color: var(--fill-color);\n",
              "    }\n",
              "    40% {\n",
              "      border-color: transparent;\n",
              "      border-right-color: var(--fill-color);\n",
              "      border-top-color: var(--fill-color);\n",
              "    }\n",
              "    60% {\n",
              "      border-color: transparent;\n",
              "      border-right-color: var(--fill-color);\n",
              "    }\n",
              "    80% {\n",
              "      border-color: transparent;\n",
              "      border-right-color: var(--fill-color);\n",
              "      border-bottom-color: var(--fill-color);\n",
              "    }\n",
              "    90% {\n",
              "      border-color: transparent;\n",
              "      border-bottom-color: var(--fill-color);\n",
              "    }\n",
              "  }\n",
              "</style>\n",
              "\n",
              "  <script>\n",
              "    async function quickchart(key) {\n",
              "      const quickchartButtonEl =\n",
              "        document.querySelector('#' + key + ' button');\n",
              "      quickchartButtonEl.disabled = true;  // To prevent multiple clicks.\n",
              "      quickchartButtonEl.classList.add('colab-df-spinner');\n",
              "      try {\n",
              "        const charts = await google.colab.kernel.invokeFunction(\n",
              "            'suggestCharts', [key], {});\n",
              "      } catch (error) {\n",
              "        console.error('Error during call to suggestCharts:', error);\n",
              "      }\n",
              "      quickchartButtonEl.classList.remove('colab-df-spinner');\n",
              "      quickchartButtonEl.classList.add('colab-df-quickchart-complete');\n",
              "    }\n",
              "    (() => {\n",
              "      let quickchartButtonEl =\n",
              "        document.querySelector('#df-b386b848-ac09-47ff-820a-50b544acd313 button');\n",
              "      quickchartButtonEl.style.display =\n",
              "        google.colab.kernel.accessAllowed ? 'block' : 'none';\n",
              "    })();\n",
              "  </script>\n",
              "</div>\n",
              "    </div>\n",
              "  </div>\n"
            ],
            "application/vnd.google.colaboratory.intrinsic+json": {
              "type": "dataframe",
              "variable_name": "data"
            }
          },
          "metadata": {},
          "execution_count": 26
        }
      ],
      "source": [
        "import pandas as pd\n",
        "import numpy as np\n",
        "import matplotlib.pyplot as plt\n",
        "import tensorflow as tf\n",
        "\n",
        "# Carregar os dados\n",
        "data = pd.read_csv('all_stocks_5yr.csv')\n",
        "data.head()"
      ]
    },
    {
      "cell_type": "code",
      "execution_count": null,
      "metadata": {
        "colab": {
          "base_uri": "https://localhost:8080/"
        },
        "id": "Ha6I1KOJ5fMe",
        "outputId": "7a0483fb-eaed-46a7-b179-0b6f7e6c1ab0"
      },
      "outputs": [
        {
          "output_type": "execute_result",
          "data": {
            "text/plain": [
              "array([[15.07],\n",
              "       [14.89],\n",
              "       [14.45],\n",
              "       ...,\n",
              "       [76.64],\n",
              "       [72.74],\n",
              "       [72.7 ]])"
            ]
          },
          "metadata": {},
          "execution_count": 27
        }
      ],
      "source": [
        "train_open = data.loc[:, ['open']].values\n",
        "train_open"
      ]
    },
    {
      "cell_type": "code",
      "execution_count": null,
      "metadata": {
        "colab": {
          "base_uri": "https://localhost:8080/"
        },
        "id": "2hC7cgjz7Sj1",
        "outputId": "58d93375-5a41-42b2-8328-2ba9123d7dcd"
      },
      "outputs": [
        {
          "output_type": "execute_result",
          "data": {
            "text/plain": [
              "array([[0.00658545],\n",
              "       [0.00649732],\n",
              "       [0.00628189],\n",
              "       ...,\n",
              "       [0.03673166],\n",
              "       [0.03482212],\n",
              "       [0.03480253]])"
            ]
          },
          "metadata": {},
          "execution_count": 28
        }
      ],
      "source": [
        "from sklearn.preprocessing import MinMaxScaler\n",
        "scaler = MinMaxScaler(feature_range = (0, 1))\n",
        "train_scaled = scaler.fit_transform(train_open)\n",
        "train_scaled"
      ]
    },
    {
      "cell_type": "code",
      "execution_count": null,
      "metadata": {
        "id": "N00_50QZ6eNG"
      },
      "outputs": [],
      "source": [
        "x_train = []\n",
        "y_train = []\n",
        "timesteps = 50\n",
        "\n",
        "for i in range(timesteps, 1250):\n",
        "  x_train.append(train_scaled[i - timesteps: i, 0])\n",
        "  y_train.append(train_scaled[i, 0])\n",
        "\n",
        "x_train, y_train = np.array(x_train), np.array(y_train)"
      ]
    },
    {
      "cell_type": "code",
      "execution_count": null,
      "metadata": {
        "id": "YRi01OEL7Z9F"
      },
      "outputs": [],
      "source": [
        "X_train = np.reshape(x_train, (x_train.shape[0], x_train.shape[1], 1))"
      ]
    },
    {
      "cell_type": "markdown",
      "metadata": {
        "id": "cHUgy9vT7e_G"
      },
      "source": [
        "# Modelo RNN"
      ]
    },
    {
      "cell_type": "code",
      "execution_count": null,
      "metadata": {
        "id": "1kqIybtc7iBN"
      },
      "outputs": [],
      "source": [
        "from keras.models import Sequential\n",
        "from keras.layers import Dense\n",
        "from keras.layers import SimpleRNN\n",
        "from keras.layers import Dropout"
      ]
    },
    {
      "cell_type": "code",
      "execution_count": 135,
      "metadata": {
        "colab": {
          "base_uri": "https://localhost:8080/"
        },
        "id": "vKOiYUqW7s7O",
        "outputId": "1cee6628-1653-4785-b63f-edea53748958"
      },
      "outputs": [
        {
          "output_type": "stream",
          "name": "stdout",
          "text": [
            "Epoch 1/100\n",
            "38/38 [==============================] - 7s 77ms/step - loss: 0.3161 - accuracy: 8.3333e-04\n",
            "Epoch 2/100\n",
            "38/38 [==============================] - 4s 97ms/step - loss: 0.2165 - accuracy: 8.3333e-04\n",
            "Epoch 3/100\n",
            "38/38 [==============================] - 3s 68ms/step - loss: 0.1355 - accuracy: 0.0017\n",
            "Epoch 4/100\n",
            "38/38 [==============================] - 3s 68ms/step - loss: 0.0842 - accuracy: 0.0017\n",
            "Epoch 5/100\n",
            "38/38 [==============================] - 4s 96ms/step - loss: 0.0468 - accuracy: 0.0017\n",
            "Epoch 6/100\n",
            "38/38 [==============================] - 3s 85ms/step - loss: 0.0358 - accuracy: 8.3333e-04\n",
            "Epoch 7/100\n",
            "38/38 [==============================] - 2s 52ms/step - loss: 0.0293 - accuracy: 0.0017\n",
            "Epoch 8/100\n",
            "38/38 [==============================] - 2s 49ms/step - loss: 0.0229 - accuracy: 0.0017\n",
            "Epoch 9/100\n",
            "38/38 [==============================] - 3s 74ms/step - loss: 0.0192 - accuracy: 0.0017\n",
            "Epoch 10/100\n",
            "38/38 [==============================] - 4s 95ms/step - loss: 0.0149 - accuracy: 0.0017\n",
            "Epoch 11/100\n",
            "38/38 [==============================] - 3s 86ms/step - loss: 0.0145 - accuracy: 0.0017\n",
            "Epoch 12/100\n",
            "38/38 [==============================] - 2s 52ms/step - loss: 0.0138 - accuracy: 0.0017\n",
            "Epoch 13/100\n",
            "38/38 [==============================] - 2s 50ms/step - loss: 0.0130 - accuracy: 0.0017\n",
            "Epoch 14/100\n",
            "38/38 [==============================] - 2s 49ms/step - loss: 0.0118 - accuracy: 0.0017\n",
            "Epoch 15/100\n",
            "38/38 [==============================] - 2s 52ms/step - loss: 0.0109 - accuracy: 0.0017\n",
            "Epoch 16/100\n",
            "38/38 [==============================] - 2s 51ms/step - loss: 0.0101 - accuracy: 0.0017\n",
            "Epoch 17/100\n",
            "38/38 [==============================] - 3s 83ms/step - loss: 0.0105 - accuracy: 0.0017\n",
            "Epoch 18/100\n",
            "38/38 [==============================] - 2s 65ms/step - loss: 0.0103 - accuracy: 0.0017\n",
            "Epoch 19/100\n",
            "38/38 [==============================] - 2s 49ms/step - loss: 0.0124 - accuracy: 0.0017\n",
            "Epoch 20/100\n",
            "38/38 [==============================] - 2s 46ms/step - loss: 0.0095 - accuracy: 0.0017\n",
            "Epoch 21/100\n",
            "38/38 [==============================] - 2s 52ms/step - loss: 0.0098 - accuracy: 0.0017\n",
            "Epoch 22/100\n",
            "38/38 [==============================] - 2s 47ms/step - loss: 0.0085 - accuracy: 0.0017\n",
            "Epoch 23/100\n",
            "38/38 [==============================] - 2s 60ms/step - loss: 0.0073 - accuracy: 0.0017\n",
            "Epoch 24/100\n",
            "38/38 [==============================] - 4s 93ms/step - loss: 0.0084 - accuracy: 0.0017\n",
            "Epoch 25/100\n",
            "38/38 [==============================] - 2s 49ms/step - loss: 0.0079 - accuracy: 0.0017\n",
            "Epoch 26/100\n",
            "38/38 [==============================] - 2s 46ms/step - loss: 0.0076 - accuracy: 0.0017\n",
            "Epoch 27/100\n",
            "38/38 [==============================] - 2s 53ms/step - loss: 0.0073 - accuracy: 0.0017\n",
            "Epoch 28/100\n",
            "38/38 [==============================] - 2s 53ms/step - loss: 0.0070 - accuracy: 0.0017\n",
            "Epoch 29/100\n",
            "38/38 [==============================] - 2s 51ms/step - loss: 0.0078 - accuracy: 0.0017\n",
            "Epoch 30/100\n",
            "38/38 [==============================] - 3s 77ms/step - loss: 0.0060 - accuracy: 0.0017\n",
            "Epoch 31/100\n",
            "38/38 [==============================] - 3s 68ms/step - loss: 0.0067 - accuracy: 0.0017\n",
            "Epoch 32/100\n",
            "38/38 [==============================] - 2s 48ms/step - loss: 0.0065 - accuracy: 0.0017\n",
            "Epoch 33/100\n",
            "38/38 [==============================] - 2s 48ms/step - loss: 0.0061 - accuracy: 0.0017\n",
            "Epoch 34/100\n",
            "38/38 [==============================] - 2s 48ms/step - loss: 0.0073 - accuracy: 0.0017\n",
            "Epoch 35/100\n",
            "38/38 [==============================] - 2s 48ms/step - loss: 0.0065 - accuracy: 0.0017\n",
            "Epoch 36/100\n",
            "38/38 [==============================] - 2s 46ms/step - loss: 0.0059 - accuracy: 0.0017\n",
            "Epoch 37/100\n",
            "38/38 [==============================] - 3s 92ms/step - loss: 0.0082 - accuracy: 0.0017\n",
            "Epoch 38/100\n",
            "38/38 [==============================] - 2s 56ms/step - loss: 0.0060 - accuracy: 0.0017\n",
            "Epoch 39/100\n",
            "38/38 [==============================] - 2s 50ms/step - loss: 0.0064 - accuracy: 0.0017\n",
            "Epoch 40/100\n",
            "38/38 [==============================] - 2s 52ms/step - loss: 0.0059 - accuracy: 0.0017\n",
            "Epoch 41/100\n",
            "38/38 [==============================] - 2s 49ms/step - loss: 0.0054 - accuracy: 0.0017\n",
            "Epoch 42/100\n",
            "38/38 [==============================] - 2s 53ms/step - loss: 0.0058 - accuracy: 0.0017\n",
            "Epoch 43/100\n",
            "38/38 [==============================] - 3s 74ms/step - loss: 0.0056 - accuracy: 0.0017\n",
            "Epoch 44/100\n",
            "38/38 [==============================] - 3s 72ms/step - loss: 0.0064 - accuracy: 0.0017\n",
            "Epoch 45/100\n",
            "38/38 [==============================] - 2s 45ms/step - loss: 0.0063 - accuracy: 0.0017\n",
            "Epoch 46/100\n",
            "38/38 [==============================] - 2s 46ms/step - loss: 0.0062 - accuracy: 0.0017\n",
            "Epoch 47/100\n",
            "38/38 [==============================] - 2s 49ms/step - loss: 0.0056 - accuracy: 0.0017\n",
            "Epoch 48/100\n",
            "38/38 [==============================] - 2s 50ms/step - loss: 0.0053 - accuracy: 0.0017\n",
            "Epoch 49/100\n",
            "38/38 [==============================] - 2s 46ms/step - loss: 0.0049 - accuracy: 0.0017\n",
            "Epoch 50/100\n",
            "38/38 [==============================] - 3s 80ms/step - loss: 0.0050 - accuracy: 0.0017\n",
            "Epoch 51/100\n",
            "38/38 [==============================] - 3s 71ms/step - loss: 0.0043 - accuracy: 0.0017\n",
            "Epoch 52/100\n",
            "38/38 [==============================] - 2s 46ms/step - loss: 0.0057 - accuracy: 0.0017\n",
            "Epoch 53/100\n",
            "38/38 [==============================] - 2s 51ms/step - loss: 0.0056 - accuracy: 0.0017\n",
            "Epoch 54/100\n",
            "38/38 [==============================] - 2s 48ms/step - loss: 0.0049 - accuracy: 0.0017\n",
            "Epoch 55/100\n",
            "38/38 [==============================] - 2s 49ms/step - loss: 0.0042 - accuracy: 0.0017\n",
            "Epoch 56/100\n",
            "38/38 [==============================] - 2s 57ms/step - loss: 0.0052 - accuracy: 0.0017\n",
            "Epoch 57/100\n",
            "38/38 [==============================] - 3s 87ms/step - loss: 0.0049 - accuracy: 0.0017\n",
            "Epoch 58/100\n",
            "38/38 [==============================] - 2s 53ms/step - loss: 0.0041 - accuracy: 0.0017\n",
            "Epoch 59/100\n",
            "38/38 [==============================] - 2s 47ms/step - loss: 0.0045 - accuracy: 0.0017\n",
            "Epoch 60/100\n",
            "38/38 [==============================] - 2s 46ms/step - loss: 0.0045 - accuracy: 0.0017\n",
            "Epoch 61/100\n",
            "38/38 [==============================] - 2s 51ms/step - loss: 0.0043 - accuracy: 0.0017\n",
            "Epoch 62/100\n",
            "38/38 [==============================] - 2s 51ms/step - loss: 0.0040 - accuracy: 0.0017\n",
            "Epoch 63/100\n",
            "38/38 [==============================] - 3s 67ms/step - loss: 0.0041 - accuracy: 0.0017\n",
            "Epoch 64/100\n",
            "38/38 [==============================] - 3s 80ms/step - loss: 0.0055 - accuracy: 0.0017\n",
            "Epoch 65/100\n",
            "38/38 [==============================] - 2s 46ms/step - loss: 0.0040 - accuracy: 0.0017\n",
            "Epoch 66/100\n",
            "38/38 [==============================] - 2s 49ms/step - loss: 0.0039 - accuracy: 0.0017\n",
            "Epoch 67/100\n",
            "38/38 [==============================] - 2s 46ms/step - loss: 0.0037 - accuracy: 0.0017\n",
            "Epoch 68/100\n",
            "38/38 [==============================] - 2s 46ms/step - loss: 0.0040 - accuracy: 0.0017\n",
            "Epoch 69/100\n",
            "38/38 [==============================] - 2s 52ms/step - loss: 0.0044 - accuracy: 0.0017\n",
            "Epoch 70/100\n",
            "38/38 [==============================] - 3s 91ms/step - loss: 0.0043 - accuracy: 0.0017\n",
            "Epoch 71/100\n",
            "38/38 [==============================] - 4s 92ms/step - loss: 0.0045 - accuracy: 0.0017\n",
            "Epoch 72/100\n",
            "38/38 [==============================] - 3s 78ms/step - loss: 0.0041 - accuracy: 0.0017\n",
            "Epoch 73/100\n",
            "38/38 [==============================] - 2s 53ms/step - loss: 0.0041 - accuracy: 0.0017\n",
            "Epoch 74/100\n",
            "38/38 [==============================] - 2s 49ms/step - loss: 0.0040 - accuracy: 0.0017\n",
            "Epoch 75/100\n",
            "38/38 [==============================] - 2s 52ms/step - loss: 0.0041 - accuracy: 0.0017\n",
            "Epoch 76/100\n",
            "38/38 [==============================] - 3s 87ms/step - loss: 0.0035 - accuracy: 0.0017\n",
            "Epoch 77/100\n",
            "38/38 [==============================] - 2s 56ms/step - loss: 0.0040 - accuracy: 0.0017\n",
            "Epoch 78/100\n",
            "38/38 [==============================] - 2s 49ms/step - loss: 0.0047 - accuracy: 0.0017\n",
            "Epoch 79/100\n",
            "38/38 [==============================] - 2s 45ms/step - loss: 0.0036 - accuracy: 0.0017\n",
            "Epoch 80/100\n",
            "38/38 [==============================] - 2s 46ms/step - loss: 0.0039 - accuracy: 0.0017\n",
            "Epoch 81/100\n",
            "38/38 [==============================] - 2s 45ms/step - loss: 0.0035 - accuracy: 0.0017\n",
            "Epoch 82/100\n",
            "38/38 [==============================] - 2s 63ms/step - loss: 0.0039 - accuracy: 0.0017\n",
            "Epoch 83/100\n",
            "38/38 [==============================] - 3s 85ms/step - loss: 0.0037 - accuracy: 0.0017\n",
            "Epoch 84/100\n",
            "38/38 [==============================] - 2s 52ms/step - loss: 0.0036 - accuracy: 0.0017\n",
            "Epoch 85/100\n",
            "38/38 [==============================] - 2s 52ms/step - loss: 0.0036 - accuracy: 0.0017\n",
            "Epoch 86/100\n",
            "38/38 [==============================] - 2s 49ms/step - loss: 0.0035 - accuracy: 0.0017\n",
            "Epoch 87/100\n",
            "38/38 [==============================] - 2s 49ms/step - loss: 0.0032 - accuracy: 0.0017\n",
            "Epoch 88/100\n",
            "38/38 [==============================] - 2s 51ms/step - loss: 0.0029 - accuracy: 0.0017\n",
            "Epoch 89/100\n",
            "38/38 [==============================] - 3s 89ms/step - loss: 0.0034 - accuracy: 0.0017\n",
            "Epoch 90/100\n",
            "38/38 [==============================] - 2s 61ms/step - loss: 0.0030 - accuracy: 0.0017\n",
            "Epoch 91/100\n",
            "38/38 [==============================] - 2s 51ms/step - loss: 0.0033 - accuracy: 0.0017\n",
            "Epoch 92/100\n",
            "38/38 [==============================] - 2s 48ms/step - loss: 0.0035 - accuracy: 0.0017\n",
            "Epoch 93/100\n",
            "38/38 [==============================] - 2s 49ms/step - loss: 0.0036 - accuracy: 0.0017\n",
            "Epoch 94/100\n",
            "38/38 [==============================] - 2s 48ms/step - loss: 0.0032 - accuracy: 0.0017\n",
            "Epoch 95/100\n",
            "38/38 [==============================] - 3s 72ms/step - loss: 0.0031 - accuracy: 0.0017\n",
            "Epoch 96/100\n",
            "38/38 [==============================] - 3s 69ms/step - loss: 0.0034 - accuracy: 0.0017\n",
            "Epoch 97/100\n",
            "38/38 [==============================] - 2s 53ms/step - loss: 0.0034 - accuracy: 0.0017\n",
            "Epoch 98/100\n",
            "38/38 [==============================] - 2s 50ms/step - loss: 0.0033 - accuracy: 0.0017\n",
            "Epoch 99/100\n",
            "38/38 [==============================] - 2s 47ms/step - loss: 0.0028 - accuracy: 0.0017\n",
            "Epoch 100/100\n",
            "38/38 [==============================] - 2s 53ms/step - loss: 0.0026 - accuracy: 0.0017\n"
          ]
        }
      ],
      "source": [
        "regressor = Sequential()\n",
        "\n",
        "#Adding the first RNN layer and some Dropout regularization\n",
        "regressor.add(SimpleRNN(units = 50, activation='tanh', return_sequences=True, input_shape= (X_train.shape[1],1)))\n",
        "regressor.add(Dropout(0.2))\n",
        "\n",
        "#Adding the second RNN layer and some Dropout regularization\n",
        "regressor.add(SimpleRNN(units = 50, activation='tanh', return_sequences=True))\n",
        "regressor.add(Dropout(0.2))\n",
        "\n",
        "regressor.add(SimpleRNN(units = 50, activation='tanh', return_sequences=True))\n",
        "regressor.add(Dropout(0.2))\n",
        "\n",
        "#Adding the fourth RNN layer and some Dropout regularization\n",
        "regressor.add(SimpleRNN(units = 50))\n",
        "regressor.add(Dropout(0.2))\n",
        "\n",
        "#Adding the output layer\n",
        "regressor.add(Dense(units = 1))\n",
        "\n",
        "#Compile the RNN\n",
        "regressor.compile(optimizer='adam', loss='mean_squared_error', metrics = [\"accuracy\"])\n",
        "\n",
        "#Fitting the RNN to the Training set\n",
        "x=regressor.fit(x_train, y_train, epochs=100, batch_size=32)"
      ]
    },
    {
      "cell_type": "markdown",
      "metadata": {
        "id": "3RD-6Eqv-vNP"
      },
      "source": [
        "# Resultados do treinamento"
      ]
    },
    {
      "cell_type": "code",
      "execution_count": null,
      "metadata": {
        "colab": {
          "base_uri": "https://localhost:8080/"
        },
        "id": "4x0QJ-fA9dNk",
        "outputId": "eed95a4a-f914-4ee3-84c3-fcf12cab2854"
      },
      "outputs": [
        {
          "output_type": "execute_result",
          "data": {
            "text/plain": [
              "[0.21347007155418396,\n",
              " 0.05679818615317345,\n",
              " 0.010309458710253239,\n",
              " 0.004259772133082151,\n",
              " 0.002188229700550437,\n",
              " 0.0016152334865182638,\n",
              " 0.0012228854466229677,\n",
              " 0.0009510427480563521,\n",
              " 0.0008319935295730829,\n",
              " 0.0007291224901564419,\n",
              " 0.000623780011665076,\n",
              " 0.0005886288709007204,\n",
              " 0.000506202457472682,\n",
              " 0.0004947050474584103,\n",
              " 0.00045220027095638216,\n",
              " 0.0004577889631036669,\n",
              " 0.0004708382475655526,\n",
              " 0.0004005588998552412,\n",
              " 0.0003691788879223168,\n",
              " 0.0003438702260609716,\n",
              " 0.00032390255364589393,\n",
              " 0.00028607287094928324,\n",
              " 0.00027180713368579745,\n",
              " 0.00025736470706760883,\n",
              " 0.0002456768706906587,\n",
              " 0.00024874924565665424,\n",
              " 0.0002261093322886154,\n",
              " 0.00022496226301882416,\n",
              " 0.0002075731026707217,\n",
              " 0.00018210340931545943,\n",
              " 0.00018340065435040742,\n",
              " 0.00020588704501278698,\n",
              " 0.00017649422807153314,\n",
              " 0.00017682624456938356,\n",
              " 0.00016689178301021457,\n",
              " 0.00015026744222268462,\n",
              " 0.0001672593061812222,\n",
              " 0.00016584689728915691,\n",
              " 0.00015091840759851038,\n",
              " 0.00014413097233045846,\n",
              " 0.00013034199946559966,\n",
              " 0.0001386770891258493,\n",
              " 0.00012861372670158744,\n",
              " 0.0001257638941751793,\n",
              " 0.00011783238733187318,\n",
              " 0.00011019717931048945,\n",
              " 0.00010750402725534514,\n",
              " 0.00011603063467191532,\n",
              " 0.00010590469173621386,\n",
              " 0.00012153789430158213,\n",
              " 0.00010667126480257139,\n",
              " 0.00010822762851603329,\n",
              " 0.00010089098941534758,\n",
              " 9.842247527558357e-05,\n",
              " 9.589127148501575e-05,\n",
              " 9.940483869286254e-05,\n",
              " 9.001767466543242e-05,\n",
              " 8.371827425435185e-05,\n",
              " 7.590669702040032e-05,\n",
              " 7.788184302626178e-05,\n",
              " 8.494508074363694e-05,\n",
              " 7.551892485935241e-05,\n",
              " 8.371558942599222e-05,\n",
              " 7.305084727704525e-05,\n",
              " 6.934443808859214e-05,\n",
              " 7.385181379504502e-05,\n",
              " 7.023328362265602e-05,\n",
              " 6.452191882999614e-05,\n",
              " 7.482051296392456e-05,\n",
              " 6.501199823105708e-05,\n",
              " 6.822803698014468e-05,\n",
              " 6.75431510899216e-05,\n",
              " 6.405566091416404e-05,\n",
              " 6.688019493594766e-05,\n",
              " 6.521318573504686e-05,\n",
              " 5.794286698801443e-05,\n",
              " 6.784013385185972e-05,\n",
              " 6.053933975636028e-05,\n",
              " 5.9721878642449155e-05,\n",
              " 4.941507722833194e-05,\n",
              " 5.226081339060329e-05,\n",
              " 4.943175372318365e-05,\n",
              " 5.6371918617514893e-05,\n",
              " 5.533102375920862e-05,\n",
              " 5.00197711517103e-05,\n",
              " 5.660586612066254e-05,\n",
              " 6.201239011716098e-05,\n",
              " 4.5360575313679874e-05,\n",
              " 4.8304667870979756e-05,\n",
              " 5.1778282795567065e-05,\n",
              " 5.2985225920565426e-05,\n",
              " 5.176645572646521e-05,\n",
              " 5.289023829391226e-05,\n",
              " 4.983372855349444e-05,\n",
              " 5.0116035708924755e-05,\n",
              " 4.3062282202299684e-05,\n",
              " 4.351065217633732e-05,\n",
              " 5.3073439630679786e-05,\n",
              " 5.4899883252801374e-05,\n",
              " 5.4250376706477255e-05]"
            ]
          },
          "metadata": {},
          "execution_count": 32
        }
      ],
      "source": [
        "x.history[\"loss\"]"
      ]
    },
    {
      "cell_type": "markdown",
      "metadata": {
        "id": "HQ6Q5UlM-775"
      },
      "source": [
        "# Modelo de Predição RNN"
      ]
    },
    {
      "cell_type": "code",
      "execution_count": null,
      "metadata": {
        "colab": {
          "base_uri": "https://localhost:8080/"
        },
        "id": "1CX0Lz_t-7O-",
        "outputId": "292f5898-1377-41e0-fffc-faf9868e9954"
      },
      "outputs": [
        {
          "output_type": "stream",
          "name": "stdout",
          "text": [
            "38/38 [==============================] - 1s 13ms/step\n"
          ]
        },
        {
          "output_type": "execute_result",
          "data": {
            "text/plain": [
              "(1200, 1)"
            ]
          },
          "metadata": {},
          "execution_count": 33
        }
      ],
      "source": [
        "y_predictions = regressor.predict(x_train)\n",
        "y_predictions = scaler.inverse_transform(y_predictions)\n",
        "y_predictions.shape"
      ]
    },
    {
      "cell_type": "code",
      "execution_count": null,
      "metadata": {
        "colab": {
          "base_uri": "https://localhost:8080/"
        },
        "id": "8YT4Pf9X_Xut",
        "outputId": "b8257577-5387-46ce-c0d0-5138eb1ffc09"
      },
      "outputs": [
        {
          "output_type": "execute_result",
          "data": {
            "text/plain": [
              "(1200, 1)"
            ]
          },
          "metadata": {},
          "execution_count": 34
        }
      ],
      "source": [
        "y_train = np.reshape(y_train, (y_train.shape[0],1))\n",
        "y_train = scaler.inverse_transform(y_train)\n",
        "y_train.shape"
      ]
    },
    {
      "cell_type": "markdown",
      "metadata": {
        "id": "xjoQbsAqCLV1"
      },
      "source": [
        "# Testes de Validação"
      ]
    },
    {
      "cell_type": "code",
      "execution_count": null,
      "metadata": {
        "id": "JAyAUP8yCpm-"
      },
      "outputs": [],
      "source": [
        "length_data = len(data)\n",
        "split_ratio = 0.7\n",
        "length_train = round(length_data * split_ratio)\n",
        "length_validation = length_data - length_train"
      ]
    },
    {
      "cell_type": "code",
      "execution_count": null,
      "metadata": {
        "colab": {
          "base_uri": "https://localhost:8080/",
          "height": 424
        },
        "id": "SH3YCQvKCgPI",
        "outputId": "0da1ad33-f2e1-4244-ab84-bb26938b6f6c"
      },
      "outputs": [
        {
          "output_type": "execute_result",
          "data": {
            "text/plain": [
              "             date   open\n",
              "433328 2016-04-21  75.21\n",
              "433329 2016-04-22  74.92\n",
              "433330 2016-04-25  75.26\n",
              "433331 2016-04-26  75.75\n",
              "433332 2016-04-27  76.76\n",
              "...           ...    ...\n",
              "619035 2018-02-01  76.84\n",
              "619036 2018-02-02  77.53\n",
              "619037 2018-02-05  76.64\n",
              "619038 2018-02-06  72.74\n",
              "619039 2018-02-07  72.70\n",
              "\n",
              "[185712 rows x 2 columns]"
            ],
            "text/html": [
              "\n",
              "  <div id=\"df-d74ac2aa-9f66-4027-ab24-f75c41e28fad\" class=\"colab-df-container\">\n",
              "    <div>\n",
              "<style scoped>\n",
              "    .dataframe tbody tr th:only-of-type {\n",
              "        vertical-align: middle;\n",
              "    }\n",
              "\n",
              "    .dataframe tbody tr th {\n",
              "        vertical-align: top;\n",
              "    }\n",
              "\n",
              "    .dataframe thead th {\n",
              "        text-align: right;\n",
              "    }\n",
              "</style>\n",
              "<table border=\"1\" class=\"dataframe\">\n",
              "  <thead>\n",
              "    <tr style=\"text-align: right;\">\n",
              "      <th></th>\n",
              "      <th>date</th>\n",
              "      <th>open</th>\n",
              "    </tr>\n",
              "  </thead>\n",
              "  <tbody>\n",
              "    <tr>\n",
              "      <th>433328</th>\n",
              "      <td>2016-04-21</td>\n",
              "      <td>75.21</td>\n",
              "    </tr>\n",
              "    <tr>\n",
              "      <th>433329</th>\n",
              "      <td>2016-04-22</td>\n",
              "      <td>74.92</td>\n",
              "    </tr>\n",
              "    <tr>\n",
              "      <th>433330</th>\n",
              "      <td>2016-04-25</td>\n",
              "      <td>75.26</td>\n",
              "    </tr>\n",
              "    <tr>\n",
              "      <th>433331</th>\n",
              "      <td>2016-04-26</td>\n",
              "      <td>75.75</td>\n",
              "    </tr>\n",
              "    <tr>\n",
              "      <th>433332</th>\n",
              "      <td>2016-04-27</td>\n",
              "      <td>76.76</td>\n",
              "    </tr>\n",
              "    <tr>\n",
              "      <th>...</th>\n",
              "      <td>...</td>\n",
              "      <td>...</td>\n",
              "    </tr>\n",
              "    <tr>\n",
              "      <th>619035</th>\n",
              "      <td>2018-02-01</td>\n",
              "      <td>76.84</td>\n",
              "    </tr>\n",
              "    <tr>\n",
              "      <th>619036</th>\n",
              "      <td>2018-02-02</td>\n",
              "      <td>77.53</td>\n",
              "    </tr>\n",
              "    <tr>\n",
              "      <th>619037</th>\n",
              "      <td>2018-02-05</td>\n",
              "      <td>76.64</td>\n",
              "    </tr>\n",
              "    <tr>\n",
              "      <th>619038</th>\n",
              "      <td>2018-02-06</td>\n",
              "      <td>72.74</td>\n",
              "    </tr>\n",
              "    <tr>\n",
              "      <th>619039</th>\n",
              "      <td>2018-02-07</td>\n",
              "      <td>72.70</td>\n",
              "    </tr>\n",
              "  </tbody>\n",
              "</table>\n",
              "<p>185712 rows × 2 columns</p>\n",
              "</div>\n",
              "    <div class=\"colab-df-buttons\">\n",
              "\n",
              "  <div class=\"colab-df-container\">\n",
              "    <button class=\"colab-df-convert\" onclick=\"convertToInteractive('df-d74ac2aa-9f66-4027-ab24-f75c41e28fad')\"\n",
              "            title=\"Convert this dataframe to an interactive table.\"\n",
              "            style=\"display:none;\">\n",
              "\n",
              "  <svg xmlns=\"http://www.w3.org/2000/svg\" height=\"24px\" viewBox=\"0 -960 960 960\">\n",
              "    <path d=\"M120-120v-720h720v720H120Zm60-500h600v-160H180v160Zm220 220h160v-160H400v160Zm0 220h160v-160H400v160ZM180-400h160v-160H180v160Zm440 0h160v-160H620v160ZM180-180h160v-160H180v160Zm440 0h160v-160H620v160Z\"/>\n",
              "  </svg>\n",
              "    </button>\n",
              "\n",
              "  <style>\n",
              "    .colab-df-container {\n",
              "      display:flex;\n",
              "      gap: 12px;\n",
              "    }\n",
              "\n",
              "    .colab-df-convert {\n",
              "      background-color: #E8F0FE;\n",
              "      border: none;\n",
              "      border-radius: 50%;\n",
              "      cursor: pointer;\n",
              "      display: none;\n",
              "      fill: #1967D2;\n",
              "      height: 32px;\n",
              "      padding: 0 0 0 0;\n",
              "      width: 32px;\n",
              "    }\n",
              "\n",
              "    .colab-df-convert:hover {\n",
              "      background-color: #E2EBFA;\n",
              "      box-shadow: 0px 1px 2px rgba(60, 64, 67, 0.3), 0px 1px 3px 1px rgba(60, 64, 67, 0.15);\n",
              "      fill: #174EA6;\n",
              "    }\n",
              "\n",
              "    .colab-df-buttons div {\n",
              "      margin-bottom: 4px;\n",
              "    }\n",
              "\n",
              "    [theme=dark] .colab-df-convert {\n",
              "      background-color: #3B4455;\n",
              "      fill: #D2E3FC;\n",
              "    }\n",
              "\n",
              "    [theme=dark] .colab-df-convert:hover {\n",
              "      background-color: #434B5C;\n",
              "      box-shadow: 0px 1px 3px 1px rgba(0, 0, 0, 0.15);\n",
              "      filter: drop-shadow(0px 1px 2px rgba(0, 0, 0, 0.3));\n",
              "      fill: #FFFFFF;\n",
              "    }\n",
              "  </style>\n",
              "\n",
              "    <script>\n",
              "      const buttonEl =\n",
              "        document.querySelector('#df-d74ac2aa-9f66-4027-ab24-f75c41e28fad button.colab-df-convert');\n",
              "      buttonEl.style.display =\n",
              "        google.colab.kernel.accessAllowed ? 'block' : 'none';\n",
              "\n",
              "      async function convertToInteractive(key) {\n",
              "        const element = document.querySelector('#df-d74ac2aa-9f66-4027-ab24-f75c41e28fad');\n",
              "        const dataTable =\n",
              "          await google.colab.kernel.invokeFunction('convertToInteractive',\n",
              "                                                    [key], {});\n",
              "        if (!dataTable) return;\n",
              "\n",
              "        const docLinkHtml = 'Like what you see? Visit the ' +\n",
              "          '<a target=\"_blank\" href=https://colab.research.google.com/notebooks/data_table.ipynb>data table notebook</a>'\n",
              "          + ' to learn more about interactive tables.';\n",
              "        element.innerHTML = '';\n",
              "        dataTable['output_type'] = 'display_data';\n",
              "        await google.colab.output.renderOutput(dataTable, element);\n",
              "        const docLink = document.createElement('div');\n",
              "        docLink.innerHTML = docLinkHtml;\n",
              "        element.appendChild(docLink);\n",
              "      }\n",
              "    </script>\n",
              "  </div>\n",
              "\n",
              "\n",
              "<div id=\"df-728a8a84-7d89-4f68-a6f7-1345153d079e\">\n",
              "  <button class=\"colab-df-quickchart\" onclick=\"quickchart('df-728a8a84-7d89-4f68-a6f7-1345153d079e')\"\n",
              "            title=\"Suggest charts\"\n",
              "            style=\"display:none;\">\n",
              "\n",
              "<svg xmlns=\"http://www.w3.org/2000/svg\" height=\"24px\"viewBox=\"0 0 24 24\"\n",
              "     width=\"24px\">\n",
              "    <g>\n",
              "        <path d=\"M19 3H5c-1.1 0-2 .9-2 2v14c0 1.1.9 2 2 2h14c1.1 0 2-.9 2-2V5c0-1.1-.9-2-2-2zM9 17H7v-7h2v7zm4 0h-2V7h2v10zm4 0h-2v-4h2v4z\"/>\n",
              "    </g>\n",
              "</svg>\n",
              "  </button>\n",
              "\n",
              "<style>\n",
              "  .colab-df-quickchart {\n",
              "      --bg-color: #E8F0FE;\n",
              "      --fill-color: #1967D2;\n",
              "      --hover-bg-color: #E2EBFA;\n",
              "      --hover-fill-color: #174EA6;\n",
              "      --disabled-fill-color: #AAA;\n",
              "      --disabled-bg-color: #DDD;\n",
              "  }\n",
              "\n",
              "  [theme=dark] .colab-df-quickchart {\n",
              "      --bg-color: #3B4455;\n",
              "      --fill-color: #D2E3FC;\n",
              "      --hover-bg-color: #434B5C;\n",
              "      --hover-fill-color: #FFFFFF;\n",
              "      --disabled-bg-color: #3B4455;\n",
              "      --disabled-fill-color: #666;\n",
              "  }\n",
              "\n",
              "  .colab-df-quickchart {\n",
              "    background-color: var(--bg-color);\n",
              "    border: none;\n",
              "    border-radius: 50%;\n",
              "    cursor: pointer;\n",
              "    display: none;\n",
              "    fill: var(--fill-color);\n",
              "    height: 32px;\n",
              "    padding: 0;\n",
              "    width: 32px;\n",
              "  }\n",
              "\n",
              "  .colab-df-quickchart:hover {\n",
              "    background-color: var(--hover-bg-color);\n",
              "    box-shadow: 0 1px 2px rgba(60, 64, 67, 0.3), 0 1px 3px 1px rgba(60, 64, 67, 0.15);\n",
              "    fill: var(--button-hover-fill-color);\n",
              "  }\n",
              "\n",
              "  .colab-df-quickchart-complete:disabled,\n",
              "  .colab-df-quickchart-complete:disabled:hover {\n",
              "    background-color: var(--disabled-bg-color);\n",
              "    fill: var(--disabled-fill-color);\n",
              "    box-shadow: none;\n",
              "  }\n",
              "\n",
              "  .colab-df-spinner {\n",
              "    border: 2px solid var(--fill-color);\n",
              "    border-color: transparent;\n",
              "    border-bottom-color: var(--fill-color);\n",
              "    animation:\n",
              "      spin 1s steps(1) infinite;\n",
              "  }\n",
              "\n",
              "  @keyframes spin {\n",
              "    0% {\n",
              "      border-color: transparent;\n",
              "      border-bottom-color: var(--fill-color);\n",
              "      border-left-color: var(--fill-color);\n",
              "    }\n",
              "    20% {\n",
              "      border-color: transparent;\n",
              "      border-left-color: var(--fill-color);\n",
              "      border-top-color: var(--fill-color);\n",
              "    }\n",
              "    30% {\n",
              "      border-color: transparent;\n",
              "      border-left-color: var(--fill-color);\n",
              "      border-top-color: var(--fill-color);\n",
              "      border-right-color: var(--fill-color);\n",
              "    }\n",
              "    40% {\n",
              "      border-color: transparent;\n",
              "      border-right-color: var(--fill-color);\n",
              "      border-top-color: var(--fill-color);\n",
              "    }\n",
              "    60% {\n",
              "      border-color: transparent;\n",
              "      border-right-color: var(--fill-color);\n",
              "    }\n",
              "    80% {\n",
              "      border-color: transparent;\n",
              "      border-right-color: var(--fill-color);\n",
              "      border-bottom-color: var(--fill-color);\n",
              "    }\n",
              "    90% {\n",
              "      border-color: transparent;\n",
              "      border-bottom-color: var(--fill-color);\n",
              "    }\n",
              "  }\n",
              "</style>\n",
              "\n",
              "  <script>\n",
              "    async function quickchart(key) {\n",
              "      const quickchartButtonEl =\n",
              "        document.querySelector('#' + key + ' button');\n",
              "      quickchartButtonEl.disabled = true;  // To prevent multiple clicks.\n",
              "      quickchartButtonEl.classList.add('colab-df-spinner');\n",
              "      try {\n",
              "        const charts = await google.colab.kernel.invokeFunction(\n",
              "            'suggestCharts', [key], {});\n",
              "      } catch (error) {\n",
              "        console.error('Error during call to suggestCharts:', error);\n",
              "      }\n",
              "      quickchartButtonEl.classList.remove('colab-df-spinner');\n",
              "      quickchartButtonEl.classList.add('colab-df-quickchart-complete');\n",
              "    }\n",
              "    (() => {\n",
              "      let quickchartButtonEl =\n",
              "        document.querySelector('#df-728a8a84-7d89-4f68-a6f7-1345153d079e button');\n",
              "      quickchartButtonEl.style.display =\n",
              "        google.colab.kernel.accessAllowed ? 'block' : 'none';\n",
              "    })();\n",
              "  </script>\n",
              "</div>\n",
              "    </div>\n",
              "  </div>\n"
            ],
            "application/vnd.google.colaboratory.intrinsic+json": {
              "type": "dataframe",
              "variable_name": "valid_data"
            }
          },
          "metadata": {},
          "execution_count": 36
        }
      ],
      "source": [
        "valid_data = data[length_train:].iloc[:,:2]\n",
        "valid_data['date'] = pd.to_datetime(valid_data['date'])\n",
        "valid_data"
      ]
    },
    {
      "cell_type": "code",
      "execution_count": null,
      "metadata": {
        "colab": {
          "base_uri": "https://localhost:8080/"
        },
        "id": "BXg4CpjZCOMo",
        "outputId": "a22c90ff-a3e8-4055-e5c3-e60a84f97813"
      },
      "outputs": [
        {
          "output_type": "stream",
          "name": "stdout",
          "text": [
            "Shape of scaled validation dataset : (619040, 1)\n"
          ]
        }
      ],
      "source": [
        "dataset_validation = valid_data.values\n",
        "dataset_validation = np.reshape(dataset_validation, (-1,1))\n",
        "scaled_dataset_validation =  scaler.fit_transform(train_open)\n",
        "print(\"Shape of scaled validation dataset :\",scaled_dataset_validation.shape)"
      ]
    },
    {
      "cell_type": "code",
      "execution_count": null,
      "metadata": {
        "id": "Uq995KyIFHmH"
      },
      "outputs": [],
      "source": [
        "X_test = []\n",
        "y_test = []\n",
        "\n",
        "for i in range(timesteps, length_validation):\n",
        "    X_test.append(scaled_dataset_validation[i-timesteps:i,0])\n",
        "    y_test.append(scaled_dataset_validation[i,0])\n"
      ]
    },
    {
      "cell_type": "code",
      "execution_count": null,
      "metadata": {
        "id": "pTzc2RgqFfsk"
      },
      "outputs": [],
      "source": [
        "X_test, y_test = np.array(X_test), np.array(y_test)"
      ]
    },
    {
      "cell_type": "code",
      "execution_count": null,
      "metadata": {
        "id": "Rvv_zKjdFloA"
      },
      "outputs": [],
      "source": [
        "X_test = np.reshape(X_test, (X_test.shape[0],X_test.shape[1],1))\n",
        "y_test = np.reshape(y_test, (-1,1))"
      ]
    },
    {
      "cell_type": "code",
      "execution_count": null,
      "metadata": {
        "colab": {
          "base_uri": "https://localhost:8080/"
        },
        "id": "hr9AoCwjGwvF",
        "outputId": "44ebe977-43cf-4699-8a53-d8845f82dc92"
      },
      "outputs": [
        {
          "output_type": "stream",
          "name": "stdout",
          "text": [
            "Shape of X_test after reshape : (185662, 50, 1)\n",
            "Shape of y_test after reshape : (185662, 1)\n"
          ]
        }
      ],
      "source": [
        "print(\"Shape of X_test after reshape :\",X_test.shape)\n",
        "print(\"Shape of y_test after reshape :\",y_test.shape)"
      ]
    },
    {
      "cell_type": "code",
      "execution_count": null,
      "metadata": {
        "colab": {
          "base_uri": "https://localhost:8080/"
        },
        "id": "BVy_AANxFsIy",
        "outputId": "75595614-48da-4163-c2a6-9753270c85b7"
      },
      "outputs": [
        {
          "output_type": "stream",
          "name": "stdout",
          "text": [
            "5802/5802 [==============================] - 15s 2ms/step\n",
            "Shape of y_pred_of_test : (185662, 1)\n"
          ]
        }
      ],
      "source": [
        "y_pred_of_test = regressor.predict(y_test)\n",
        "y_pred_of_test = scaler.inverse_transform(y_pred_of_test)\n",
        "print(\"Shape of y_pred_of_test :\",y_pred_of_test.shape)"
      ]
    },
    {
      "cell_type": "markdown",
      "metadata": {
        "id": "0542IqRZszU-"
      },
      "source": [
        "# Modelo LSTM"
      ]
    },
    {
      "cell_type": "code",
      "execution_count": null,
      "metadata": {
        "id": "rE0FRUhgTt5G"
      },
      "outputs": [],
      "source": [
        "from keras.models import Sequential\n",
        "from keras.layers import Dense\n",
        "from keras.layers import LSTM, GRU\n",
        "from sklearn.preprocessing import MinMaxScaler\n",
        "from sklearn.metrics import mean_squared_error"
      ]
    },
    {
      "cell_type": "code",
      "execution_count": null,
      "metadata": {
        "id": "xfuD74LAUwHT"
      },
      "outputs": [],
      "source": [
        "testX, testy = np.array(x_train), np.array(y_train)\n",
        "trainX, trainy = np.array(x_train), np.array(y_train)\n"
      ]
    },
    {
      "cell_type": "code",
      "execution_count": null,
      "metadata": {
        "colab": {
          "base_uri": "https://localhost:8080/"
        },
        "id": "-mP4RRuDYWNV",
        "outputId": "8543191f-5df6-4481-9fbc-b70bba74084c"
      },
      "outputs": [
        {
          "output_type": "execute_result",
          "data": {
            "text/plain": [
              "(1200, 50)"
            ]
          },
          "metadata": {},
          "execution_count": 45
        }
      ],
      "source": [
        "trainX.shape"
      ]
    },
    {
      "cell_type": "code",
      "execution_count": null,
      "metadata": {
        "id": "I5H3UVPuYPph"
      },
      "outputs": [],
      "source": [
        "trainX = np.reshape(trainX, (trainX.shape[0],1,  trainX.shape[1]))\n",
        "testX = np.reshape(testX, (testX.shape[0],1,  testX.shape[1]))"
      ]
    },
    {
      "cell_type": "code",
      "execution_count": null,
      "metadata": {
        "colab": {
          "base_uri": "https://localhost:8080/"
        },
        "id": "g17DbbyFXCex",
        "outputId": "ae580f29-ad3f-4a9c-a61c-8a49095c099e"
      },
      "outputs": [
        {
          "output_type": "execute_result",
          "data": {
            "text/plain": [
              "(1200, 1)"
            ]
          },
          "metadata": {},
          "execution_count": 86
        }
      ],
      "source": [
        "trainy.shape\n"
      ]
    },
    {
      "cell_type": "code",
      "source": [
        "testX.shape"
      ],
      "metadata": {
        "colab": {
          "base_uri": "https://localhost:8080/"
        },
        "id": "xo17ha34qOzE",
        "outputId": "70e67437-a9d5-4578-ef7e-015b09a12b8e"
      },
      "execution_count": null,
      "outputs": [
        {
          "output_type": "execute_result",
          "data": {
            "text/plain": [
              "(1200, 1, 50)"
            ]
          },
          "metadata": {},
          "execution_count": 56
        }
      ]
    },
    {
      "cell_type": "code",
      "execution_count": 134,
      "metadata": {
        "colab": {
          "base_uri": "https://localhost:8080/"
        },
        "id": "y_64_m_WTxMe",
        "outputId": "ca477bd1-ab90-463c-911e-e63f9eec4bcf"
      },
      "outputs": [
        {
          "output_type": "stream",
          "name": "stdout",
          "text": [
            "Epoch 1/100\n",
            "120/120 [==============================] - 8s 34ms/step - loss: 0.0685 - accuracy: 0.0017\n",
            "Epoch 2/100\n",
            "120/120 [==============================] - 4s 37ms/step - loss: 0.0237 - accuracy: 0.0017\n",
            "Epoch 3/100\n",
            "120/120 [==============================] - 5s 41ms/step - loss: 0.0100 - accuracy: 0.0017\n",
            "Epoch 4/100\n",
            "120/120 [==============================] - 4s 35ms/step - loss: 0.0081 - accuracy: 0.0017\n",
            "Epoch 5/100\n",
            "120/120 [==============================] - 7s 55ms/step - loss: 0.0068 - accuracy: 0.0017\n",
            "Epoch 6/100\n",
            "120/120 [==============================] - 5s 39ms/step - loss: 0.0043 - accuracy: 0.0017\n",
            "Epoch 7/100\n",
            "120/120 [==============================] - 4s 34ms/step - loss: 0.0039 - accuracy: 0.0017\n",
            "Epoch 8/100\n",
            "120/120 [==============================] - 5s 41ms/step - loss: 0.0043 - accuracy: 0.0017\n",
            "Epoch 9/100\n",
            "120/120 [==============================] - 5s 40ms/step - loss: 0.0031 - accuracy: 0.0017\n",
            "Epoch 10/100\n",
            "120/120 [==============================] - 4s 32ms/step - loss: 0.0029 - accuracy: 0.0017\n",
            "Epoch 11/100\n",
            "120/120 [==============================] - 5s 39ms/step - loss: 0.0034 - accuracy: 0.0017\n",
            "Epoch 12/100\n",
            "120/120 [==============================] - 5s 43ms/step - loss: 0.0027 - accuracy: 0.0017\n",
            "Epoch 13/100\n",
            "120/120 [==============================] - 4s 33ms/step - loss: 0.0029 - accuracy: 0.0017\n",
            "Epoch 14/100\n",
            "120/120 [==============================] - 5s 38ms/step - loss: 0.0027 - accuracy: 0.0017\n",
            "Epoch 15/100\n",
            "120/120 [==============================] - 5s 44ms/step - loss: 0.0023 - accuracy: 0.0017\n",
            "Epoch 16/100\n",
            "120/120 [==============================] - 4s 35ms/step - loss: 0.0025 - accuracy: 0.0017\n",
            "Epoch 17/100\n",
            "120/120 [==============================] - 4s 36ms/step - loss: 0.0022 - accuracy: 0.0017\n",
            "Epoch 18/100\n",
            "120/120 [==============================] - 6s 48ms/step - loss: 0.0023 - accuracy: 0.0017\n",
            "Epoch 19/100\n",
            "120/120 [==============================] - 7s 57ms/step - loss: 0.0021 - accuracy: 0.0017\n",
            "Epoch 20/100\n",
            "120/120 [==============================] - 6s 50ms/step - loss: 0.0018 - accuracy: 0.0017\n",
            "Epoch 21/100\n",
            "120/120 [==============================] - 4s 33ms/step - loss: 0.0016 - accuracy: 0.0017\n",
            "Epoch 22/100\n",
            "120/120 [==============================] - 4s 34ms/step - loss: 0.0017 - accuracy: 0.0017\n",
            "Epoch 23/100\n",
            "120/120 [==============================] - 6s 49ms/step - loss: 0.0015 - accuracy: 0.0017\n",
            "Epoch 24/100\n",
            "120/120 [==============================] - 4s 34ms/step - loss: 0.0014 - accuracy: 0.0017\n",
            "Epoch 25/100\n",
            "120/120 [==============================] - 4s 34ms/step - loss: 0.0017 - accuracy: 0.0017\n",
            "Epoch 26/100\n",
            "120/120 [==============================] - 6s 50ms/step - loss: 0.0013 - accuracy: 0.0017\n",
            "Epoch 27/100\n",
            "120/120 [==============================] - 4s 34ms/step - loss: 0.0014 - accuracy: 0.0017\n",
            "Epoch 28/100\n",
            "120/120 [==============================] - 4s 32ms/step - loss: 0.0014 - accuracy: 0.0017\n",
            "Epoch 29/100\n",
            "120/120 [==============================] - 5s 42ms/step - loss: 0.0012 - accuracy: 0.0017\n",
            "Epoch 30/100\n",
            "120/120 [==============================] - 4s 37ms/step - loss: 0.0012 - accuracy: 0.0017\n",
            "Epoch 31/100\n",
            "120/120 [==============================] - 4s 35ms/step - loss: 0.0011 - accuracy: 0.0017\n",
            "Epoch 32/100\n",
            "120/120 [==============================] - 5s 40ms/step - loss: 0.0013 - accuracy: 0.0017\n",
            "Epoch 33/100\n",
            "120/120 [==============================] - 7s 55ms/step - loss: 0.0010 - accuracy: 0.0017\n",
            "Epoch 34/100\n",
            "120/120 [==============================] - 4s 32ms/step - loss: 8.1386e-04 - accuracy: 0.0017\n",
            "Epoch 35/100\n",
            "120/120 [==============================] - 4s 33ms/step - loss: 9.4192e-04 - accuracy: 0.0017\n",
            "Epoch 36/100\n",
            "120/120 [==============================] - 6s 46ms/step - loss: 9.4124e-04 - accuracy: 0.0017\n",
            "Epoch 37/100\n",
            "120/120 [==============================] - 4s 34ms/step - loss: 0.0010 - accuracy: 0.0017\n",
            "Epoch 38/100\n",
            "120/120 [==============================] - 4s 34ms/step - loss: 9.1057e-04 - accuracy: 0.0017\n",
            "Epoch 39/100\n",
            "120/120 [==============================] - 6s 49ms/step - loss: 0.0011 - accuracy: 0.0017\n",
            "Epoch 40/100\n",
            "120/120 [==============================] - 4s 34ms/step - loss: 8.1841e-04 - accuracy: 0.0017\n",
            "Epoch 41/100\n",
            "120/120 [==============================] - 4s 34ms/step - loss: 0.0012 - accuracy: 0.0017\n",
            "Epoch 42/100\n",
            "120/120 [==============================] - 6s 50ms/step - loss: 7.1552e-04 - accuracy: 0.0017\n",
            "Epoch 43/100\n",
            "120/120 [==============================] - 4s 34ms/step - loss: 7.9914e-04 - accuracy: 0.0017\n",
            "Epoch 44/100\n",
            "120/120 [==============================] - 4s 35ms/step - loss: 8.2347e-04 - accuracy: 0.0017\n",
            "Epoch 45/100\n",
            "120/120 [==============================] - 5s 45ms/step - loss: 8.9644e-04 - accuracy: 0.0017\n",
            "Epoch 46/100\n",
            "120/120 [==============================] - 4s 37ms/step - loss: 7.1773e-04 - accuracy: 0.0017\n",
            "Epoch 47/100\n",
            "120/120 [==============================] - 4s 34ms/step - loss: 8.2177e-04 - accuracy: 0.0017\n",
            "Epoch 48/100\n",
            "120/120 [==============================] - 5s 43ms/step - loss: 8.0282e-04 - accuracy: 0.0017\n",
            "Epoch 49/100\n",
            "120/120 [==============================] - 5s 41ms/step - loss: 8.0931e-04 - accuracy: 0.0017\n",
            "Epoch 50/100\n",
            "120/120 [==============================] - 4s 33ms/step - loss: 7.2073e-04 - accuracy: 0.0017\n",
            "Epoch 51/100\n",
            "120/120 [==============================] - 4s 37ms/step - loss: 8.2916e-04 - accuracy: 0.0017\n",
            "Epoch 52/100\n",
            "120/120 [==============================] - 6s 46ms/step - loss: 6.5160e-04 - accuracy: 0.0017\n",
            "Epoch 53/100\n",
            "120/120 [==============================] - 4s 34ms/step - loss: 7.3940e-04 - accuracy: 0.0017\n",
            "Epoch 54/100\n",
            "120/120 [==============================] - 4s 36ms/step - loss: 8.0900e-04 - accuracy: 0.0017\n",
            "Epoch 55/100\n",
            "120/120 [==============================] - 6s 48ms/step - loss: 6.9398e-04 - accuracy: 0.0017\n",
            "Epoch 56/100\n",
            "120/120 [==============================] - 4s 33ms/step - loss: 8.0175e-04 - accuracy: 0.0017\n",
            "Epoch 57/100\n",
            "120/120 [==============================] - 4s 35ms/step - loss: 7.4357e-04 - accuracy: 0.0017\n",
            "Epoch 58/100\n",
            "120/120 [==============================] - 6s 47ms/step - loss: 6.8724e-04 - accuracy: 0.0017\n",
            "Epoch 59/100\n",
            "120/120 [==============================] - 4s 34ms/step - loss: 7.0291e-04 - accuracy: 0.0017\n",
            "Epoch 60/100\n",
            "120/120 [==============================] - 4s 35ms/step - loss: 5.8928e-04 - accuracy: 0.0017\n",
            "Epoch 61/100\n",
            "120/120 [==============================] - 7s 59ms/step - loss: 5.8677e-04 - accuracy: 0.0017\n",
            "Epoch 62/100\n",
            "120/120 [==============================] - 5s 39ms/step - loss: 5.8914e-04 - accuracy: 0.0017\n",
            "Epoch 63/100\n",
            "120/120 [==============================] - 4s 33ms/step - loss: 7.6480e-04 - accuracy: 0.0017\n",
            "Epoch 64/100\n",
            "120/120 [==============================] - 6s 48ms/step - loss: 7.4098e-04 - accuracy: 0.0017\n",
            "Epoch 65/100\n",
            "120/120 [==============================] - 4s 33ms/step - loss: 6.6679e-04 - accuracy: 0.0017\n",
            "Epoch 66/100\n",
            "120/120 [==============================] - 4s 34ms/step - loss: 6.3566e-04 - accuracy: 0.0017\n",
            "Epoch 67/100\n",
            "120/120 [==============================] - 6s 48ms/step - loss: 5.7485e-04 - accuracy: 0.0017\n",
            "Epoch 68/100\n",
            "120/120 [==============================] - 4s 34ms/step - loss: 5.8911e-04 - accuracy: 0.0017\n",
            "Epoch 69/100\n",
            "120/120 [==============================] - 4s 35ms/step - loss: 6.9302e-04 - accuracy: 0.0017\n",
            "Epoch 70/100\n",
            "120/120 [==============================] - 6s 49ms/step - loss: 6.0348e-04 - accuracy: 0.0017\n",
            "Epoch 71/100\n",
            "120/120 [==============================] - 4s 34ms/step - loss: 5.9809e-04 - accuracy: 0.0017\n",
            "Epoch 72/100\n",
            "120/120 [==============================] - 4s 33ms/step - loss: 6.0665e-04 - accuracy: 0.0017\n",
            "Epoch 73/100\n",
            "120/120 [==============================] - 6s 49ms/step - loss: 6.5772e-04 - accuracy: 0.0017\n",
            "Epoch 74/100\n",
            "120/120 [==============================] - 4s 33ms/step - loss: 6.0445e-04 - accuracy: 0.0017\n",
            "Epoch 75/100\n",
            "120/120 [==============================] - 4s 35ms/step - loss: 5.9962e-04 - accuracy: 0.0017\n",
            "Epoch 76/100\n",
            "120/120 [==============================] - 5s 45ms/step - loss: 5.9871e-04 - accuracy: 0.0017\n",
            "Epoch 77/100\n",
            "120/120 [==============================] - 4s 36ms/step - loss: 7.0201e-04 - accuracy: 0.0017\n",
            "Epoch 78/100\n",
            "120/120 [==============================] - 4s 33ms/step - loss: 5.5210e-04 - accuracy: 0.0017\n",
            "Epoch 79/100\n",
            "120/120 [==============================] - 6s 46ms/step - loss: 5.7250e-04 - accuracy: 0.0017\n",
            "Epoch 80/100\n",
            "120/120 [==============================] - 4s 36ms/step - loss: 5.7933e-04 - accuracy: 0.0017\n",
            "Epoch 81/100\n",
            "120/120 [==============================] - 4s 34ms/step - loss: 8.3019e-04 - accuracy: 0.0017\n",
            "Epoch 82/100\n",
            "120/120 [==============================] - 5s 43ms/step - loss: 5.7176e-04 - accuracy: 0.0017\n",
            "Epoch 83/100\n",
            "120/120 [==============================] - 5s 41ms/step - loss: 6.4977e-04 - accuracy: 0.0017\n",
            "Epoch 84/100\n",
            "120/120 [==============================] - 4s 34ms/step - loss: 6.3270e-04 - accuracy: 0.0017\n",
            "Epoch 85/100\n",
            "120/120 [==============================] - 5s 39ms/step - loss: 6.3087e-04 - accuracy: 0.0017\n",
            "Epoch 86/100\n",
            "120/120 [==============================] - 5s 42ms/step - loss: 6.6922e-04 - accuracy: 0.0017\n",
            "Epoch 87/100\n",
            "120/120 [==============================] - 4s 34ms/step - loss: 6.6853e-04 - accuracy: 0.0017\n",
            "Epoch 88/100\n",
            "120/120 [==============================] - 5s 38ms/step - loss: 5.8589e-04 - accuracy: 0.0017\n",
            "Epoch 89/100\n",
            "120/120 [==============================] - 5s 44ms/step - loss: 5.1967e-04 - accuracy: 0.0017\n",
            "Epoch 90/100\n",
            "120/120 [==============================] - 6s 47ms/step - loss: 6.7554e-04 - accuracy: 0.0017\n",
            "Epoch 91/100\n",
            "120/120 [==============================] - 5s 42ms/step - loss: 7.2575e-04 - accuracy: 0.0017\n",
            "Epoch 92/100\n",
            "120/120 [==============================] - 5s 38ms/step - loss: 5.7213e-04 - accuracy: 0.0017\n",
            "Epoch 93/100\n",
            "120/120 [==============================] - 4s 35ms/step - loss: 7.0560e-04 - accuracy: 0.0017\n",
            "Epoch 94/100\n",
            "120/120 [==============================] - 5s 43ms/step - loss: 5.4364e-04 - accuracy: 0.0017\n",
            "Epoch 95/100\n",
            "120/120 [==============================] - 5s 40ms/step - loss: 5.7693e-04 - accuracy: 0.0017\n",
            "Epoch 96/100\n",
            "120/120 [==============================] - 4s 34ms/step - loss: 6.0045e-04 - accuracy: 0.0017\n",
            "Epoch 97/100\n",
            "120/120 [==============================] - 5s 40ms/step - loss: 5.6269e-04 - accuracy: 0.0017\n",
            "Epoch 98/100\n",
            "120/120 [==============================] - 5s 42ms/step - loss: 5.9977e-04 - accuracy: 0.0017\n",
            "Epoch 99/100\n",
            "120/120 [==============================] - 4s 34ms/step - loss: 6.0866e-04 - accuracy: 0.0017\n",
            "Epoch 100/100\n",
            "120/120 [==============================] - 5s 39ms/step - loss: 5.6027e-04 - accuracy: 0.0017\n"
          ]
        }
      ],
      "source": [
        "model_lstm = Sequential()\n",
        "model_lstm.add(\n",
        "    LSTM(64,return_sequences=True,input_shape = (X_train.shape[1],1))) #64 lstm neuron block\n",
        "model_lstm.add(\n",
        "    LSTM(64, return_sequences= False))\n",
        "model_lstm.add(Dense(32))\n",
        "model_lstm.add(Dense(1))\n",
        "model_lstm.compile(loss = \"mean_squared_error\", optimizer = \"adam\", metrics = [\"accuracy\"])\n",
        "history2 = model_lstm.fit(X_train, y_train, epochs = 100, batch_size = 10)"
      ]
    },
    {
      "cell_type": "markdown",
      "metadata": {
        "id": "0vFwaGWsZDDi"
      },
      "source": [
        "#Predição"
      ]
    },
    {
      "cell_type": "code",
      "source": [
        "y_train = scaler.fit_transform(y_train)"
      ],
      "metadata": {
        "id": "RTMujwLmw5nA"
      },
      "execution_count": null,
      "outputs": []
    },
    {
      "cell_type": "code",
      "execution_count": 136,
      "metadata": {
        "colab": {
          "base_uri": "https://localhost:8080/",
          "height": 1000
        },
        "id": "FAMEwGANY_Zk",
        "outputId": "11d95b94-84dc-4237-baf3-68bab2a37cd3"
      },
      "outputs": [
        {
          "output_type": "stream",
          "name": "stdout",
          "text": [
            "38/38 [==============================] - 2s 19ms/step\n"
          ]
        },
        {
          "output_type": "error",
          "ename": "InvalidArgumentError",
          "evalue": "Graph execution error:\n\nDetected at node while/MatMul defined at (most recent call last):\n  File \"/usr/lib/python3.10/runpy.py\", line 196, in _run_module_as_main\n\n  File \"/usr/lib/python3.10/runpy.py\", line 86, in _run_code\n\n  File \"/usr/local/lib/python3.10/dist-packages/colab_kernel_launcher.py\", line 37, in <module>\n\n  File \"/usr/local/lib/python3.10/dist-packages/traitlets/config/application.py\", line 992, in launch_instance\n\n  File \"/usr/local/lib/python3.10/dist-packages/ipykernel/kernelapp.py\", line 619, in start\n\n  File \"/usr/local/lib/python3.10/dist-packages/tornado/platform/asyncio.py\", line 195, in start\n\n  File \"/usr/lib/python3.10/asyncio/base_events.py\", line 603, in run_forever\n\n  File \"/usr/lib/python3.10/asyncio/base_events.py\", line 1909, in _run_once\n\n  File \"/usr/lib/python3.10/asyncio/events.py\", line 80, in _run\n\n  File \"/usr/local/lib/python3.10/dist-packages/tornado/ioloop.py\", line 685, in <lambda>\n\n  File \"/usr/local/lib/python3.10/dist-packages/tornado/ioloop.py\", line 738, in _run_callback\n\n  File \"/usr/local/lib/python3.10/dist-packages/tornado/gen.py\", line 825, in inner\n\n  File \"/usr/local/lib/python3.10/dist-packages/tornado/gen.py\", line 786, in run\n\n  File \"/usr/local/lib/python3.10/dist-packages/ipykernel/kernelbase.py\", line 361, in process_one\n\n  File \"/usr/local/lib/python3.10/dist-packages/tornado/gen.py\", line 234, in wrapper\n\n  File \"/usr/local/lib/python3.10/dist-packages/ipykernel/kernelbase.py\", line 261, in dispatch_shell\n\n  File \"/usr/local/lib/python3.10/dist-packages/tornado/gen.py\", line 234, in wrapper\n\n  File \"/usr/local/lib/python3.10/dist-packages/ipykernel/kernelbase.py\", line 539, in execute_request\n\n  File \"/usr/local/lib/python3.10/dist-packages/tornado/gen.py\", line 234, in wrapper\n\n  File \"/usr/local/lib/python3.10/dist-packages/ipykernel/ipkernel.py\", line 302, in do_execute\n\n  File \"/usr/local/lib/python3.10/dist-packages/ipykernel/zmqshell.py\", line 539, in run_cell\n\n  File \"/usr/local/lib/python3.10/dist-packages/IPython/core/interactiveshell.py\", line 2975, in run_cell\n\n  File \"/usr/local/lib/python3.10/dist-packages/IPython/core/interactiveshell.py\", line 3030, in _run_cell\n\n  File \"/usr/local/lib/python3.10/dist-packages/IPython/core/async_helpers.py\", line 78, in _pseudo_sync_runner\n\n  File \"/usr/local/lib/python3.10/dist-packages/IPython/core/interactiveshell.py\", line 3257, in run_cell_async\n\n  File \"/usr/local/lib/python3.10/dist-packages/IPython/core/interactiveshell.py\", line 3473, in run_ast_nodes\n\n  File \"/usr/local/lib/python3.10/dist-packages/IPython/core/interactiveshell.py\", line 3553, in run_code\n\n  File \"<ipython-input-136-46a7a6d761e7>\", line 2, in <cell line: 2>\n\n  File \"/usr/local/lib/python3.10/dist-packages/keras/src/utils/traceback_utils.py\", line 65, in error_handler\n\n  File \"/usr/local/lib/python3.10/dist-packages/keras/src/engine/training.py\", line 2655, in predict\n\n  File \"/usr/local/lib/python3.10/dist-packages/keras/src/engine/training.py\", line 2440, in predict_function\n\n  File \"/usr/local/lib/python3.10/dist-packages/keras/src/engine/training.py\", line 2425, in step_function\n\n  File \"/usr/local/lib/python3.10/dist-packages/keras/src/engine/training.py\", line 2413, in run_step\n\n  File \"/usr/local/lib/python3.10/dist-packages/keras/src/engine/training.py\", line 2381, in predict_step\n\n  File \"/usr/local/lib/python3.10/dist-packages/keras/src/utils/traceback_utils.py\", line 65, in error_handler\n\n  File \"/usr/local/lib/python3.10/dist-packages/keras/src/engine/training.py\", line 590, in __call__\n\n  File \"/usr/local/lib/python3.10/dist-packages/keras/src/utils/traceback_utils.py\", line 65, in error_handler\n\n  File \"/usr/local/lib/python3.10/dist-packages/keras/src/engine/base_layer.py\", line 1149, in __call__\n\n  File \"/usr/local/lib/python3.10/dist-packages/keras/src/utils/traceback_utils.py\", line 96, in error_handler\n\n  File \"/usr/local/lib/python3.10/dist-packages/keras/src/engine/sequential.py\", line 398, in call\n\n  File \"/usr/local/lib/python3.10/dist-packages/keras/src/engine/functional.py\", line 515, in call\n\n  File \"/usr/local/lib/python3.10/dist-packages/keras/src/engine/functional.py\", line 672, in _run_internal_graph\n\n  File \"/usr/local/lib/python3.10/dist-packages/keras/src/layers/rnn/base_rnn.py\", line 556, in __call__\n\n  File \"/usr/local/lib/python3.10/dist-packages/keras/src/utils/traceback_utils.py\", line 65, in error_handler\n\n  File \"/usr/local/lib/python3.10/dist-packages/keras/src/engine/base_layer.py\", line 1149, in __call__\n\n  File \"/usr/local/lib/python3.10/dist-packages/keras/src/utils/traceback_utils.py\", line 96, in error_handler\n\n  File \"/usr/local/lib/python3.10/dist-packages/keras/src/layers/rnn/lstm.py\", line 749, in call\n\n  File \"/usr/local/lib/python3.10/dist-packages/keras/src/layers/rnn/lstm.py\", line 1339, in lstm_with_backend_selection\n\n  File \"/usr/local/lib/python3.10/dist-packages/keras/src/layers/rnn/lstm.py\", line 981, in standard_lstm\n\n  File \"/usr/local/lib/python3.10/dist-packages/keras/src/backend.py\", line 5168, in rnn\n\n  File \"/usr/local/lib/python3.10/dist-packages/keras/src/backend.py\", line 5147, in _step\n\n  File \"/usr/local/lib/python3.10/dist-packages/keras/src/layers/rnn/lstm.py\", line 967, in step\n\n  File \"/usr/local/lib/python3.10/dist-packages/keras/src/backend.py\", line 2463, in dot\n\nMatrix size-incompatible: In[0]: [32,50], In[1]: [1,256]\n\t [[{{node while/MatMul}}]]\n\t [[sequential_1/lstm/PartitionedCall]] [Op:__inference_predict_function_222588]",
          "traceback": [
            "\u001b[0;31m---------------------------------------------------------------------------\u001b[0m",
            "\u001b[0;31mInvalidArgumentError\u001b[0m                      Traceback (most recent call last)",
            "\u001b[0;32m<ipython-input-136-46a7a6d761e7>\u001b[0m in \u001b[0;36m<cell line: 2>\u001b[0;34m()\u001b[0m\n\u001b[1;32m      1\u001b[0m \u001b[0mtrainPredict\u001b[0m \u001b[0;34m=\u001b[0m \u001b[0mmodel_lstm\u001b[0m\u001b[0;34m.\u001b[0m\u001b[0mpredict\u001b[0m\u001b[0;34m(\u001b[0m\u001b[0mX_train\u001b[0m\u001b[0;34m)\u001b[0m\u001b[0;34m\u001b[0m\u001b[0;34m\u001b[0m\u001b[0m\n\u001b[0;32m----> 2\u001b[0;31m \u001b[0mtestPredict\u001b[0m \u001b[0;34m=\u001b[0m \u001b[0mmodel_lstm\u001b[0m\u001b[0;34m.\u001b[0m\u001b[0mpredict\u001b[0m\u001b[0;34m(\u001b[0m\u001b[0mtestX\u001b[0m\u001b[0;34m)\u001b[0m\u001b[0;34m\u001b[0m\u001b[0;34m\u001b[0m\u001b[0m\n\u001b[0m\u001b[1;32m      3\u001b[0m \u001b[0;34m\u001b[0m\u001b[0m\n\u001b[1;32m      4\u001b[0m \u001b[0;31m# invert predictions\u001b[0m\u001b[0;34m\u001b[0m\u001b[0;34m\u001b[0m\u001b[0m\n\u001b[1;32m      5\u001b[0m \u001b[0mtrainPredict\u001b[0m \u001b[0;34m=\u001b[0m \u001b[0mscaler\u001b[0m\u001b[0;34m.\u001b[0m\u001b[0minverse_transform\u001b[0m\u001b[0;34m(\u001b[0m\u001b[0mtrainPredict\u001b[0m\u001b[0;34m)\u001b[0m\u001b[0;34m\u001b[0m\u001b[0;34m\u001b[0m\u001b[0m\n",
            "\u001b[0;32m/usr/local/lib/python3.10/dist-packages/keras/src/utils/traceback_utils.py\u001b[0m in \u001b[0;36merror_handler\u001b[0;34m(*args, **kwargs)\u001b[0m\n\u001b[1;32m     68\u001b[0m             \u001b[0;31m# To get the full stack trace, call:\u001b[0m\u001b[0;34m\u001b[0m\u001b[0;34m\u001b[0m\u001b[0m\n\u001b[1;32m     69\u001b[0m             \u001b[0;31m# `tf.debugging.disable_traceback_filtering()`\u001b[0m\u001b[0;34m\u001b[0m\u001b[0;34m\u001b[0m\u001b[0m\n\u001b[0;32m---> 70\u001b[0;31m             \u001b[0;32mraise\u001b[0m \u001b[0me\u001b[0m\u001b[0;34m.\u001b[0m\u001b[0mwith_traceback\u001b[0m\u001b[0;34m(\u001b[0m\u001b[0mfiltered_tb\u001b[0m\u001b[0;34m)\u001b[0m \u001b[0;32mfrom\u001b[0m \u001b[0;32mNone\u001b[0m\u001b[0;34m\u001b[0m\u001b[0;34m\u001b[0m\u001b[0m\n\u001b[0m\u001b[1;32m     71\u001b[0m         \u001b[0;32mfinally\u001b[0m\u001b[0;34m:\u001b[0m\u001b[0;34m\u001b[0m\u001b[0;34m\u001b[0m\u001b[0m\n\u001b[1;32m     72\u001b[0m             \u001b[0;32mdel\u001b[0m \u001b[0mfiltered_tb\u001b[0m\u001b[0;34m\u001b[0m\u001b[0;34m\u001b[0m\u001b[0m\n",
            "\u001b[0;32m/usr/local/lib/python3.10/dist-packages/tensorflow/python/eager/execute.py\u001b[0m in \u001b[0;36mquick_execute\u001b[0;34m(op_name, num_outputs, inputs, attrs, ctx, name)\u001b[0m\n\u001b[1;32m     51\u001b[0m   \u001b[0;32mtry\u001b[0m\u001b[0;34m:\u001b[0m\u001b[0;34m\u001b[0m\u001b[0;34m\u001b[0m\u001b[0m\n\u001b[1;32m     52\u001b[0m     \u001b[0mctx\u001b[0m\u001b[0;34m.\u001b[0m\u001b[0mensure_initialized\u001b[0m\u001b[0;34m(\u001b[0m\u001b[0;34m)\u001b[0m\u001b[0;34m\u001b[0m\u001b[0;34m\u001b[0m\u001b[0m\n\u001b[0;32m---> 53\u001b[0;31m     tensors = pywrap_tfe.TFE_Py_Execute(ctx._handle, device_name, op_name,\n\u001b[0m\u001b[1;32m     54\u001b[0m                                         inputs, attrs, num_outputs)\n\u001b[1;32m     55\u001b[0m   \u001b[0;32mexcept\u001b[0m \u001b[0mcore\u001b[0m\u001b[0;34m.\u001b[0m\u001b[0m_NotOkStatusException\u001b[0m \u001b[0;32mas\u001b[0m \u001b[0me\u001b[0m\u001b[0;34m:\u001b[0m\u001b[0;34m\u001b[0m\u001b[0;34m\u001b[0m\u001b[0m\n",
            "\u001b[0;31mInvalidArgumentError\u001b[0m: Graph execution error:\n\nDetected at node while/MatMul defined at (most recent call last):\n  File \"/usr/lib/python3.10/runpy.py\", line 196, in _run_module_as_main\n\n  File \"/usr/lib/python3.10/runpy.py\", line 86, in _run_code\n\n  File \"/usr/local/lib/python3.10/dist-packages/colab_kernel_launcher.py\", line 37, in <module>\n\n  File \"/usr/local/lib/python3.10/dist-packages/traitlets/config/application.py\", line 992, in launch_instance\n\n  File \"/usr/local/lib/python3.10/dist-packages/ipykernel/kernelapp.py\", line 619, in start\n\n  File \"/usr/local/lib/python3.10/dist-packages/tornado/platform/asyncio.py\", line 195, in start\n\n  File \"/usr/lib/python3.10/asyncio/base_events.py\", line 603, in run_forever\n\n  File \"/usr/lib/python3.10/asyncio/base_events.py\", line 1909, in _run_once\n\n  File \"/usr/lib/python3.10/asyncio/events.py\", line 80, in _run\n\n  File \"/usr/local/lib/python3.10/dist-packages/tornado/ioloop.py\", line 685, in <lambda>\n\n  File \"/usr/local/lib/python3.10/dist-packages/tornado/ioloop.py\", line 738, in _run_callback\n\n  File \"/usr/local/lib/python3.10/dist-packages/tornado/gen.py\", line 825, in inner\n\n  File \"/usr/local/lib/python3.10/dist-packages/tornado/gen.py\", line 786, in run\n\n  File \"/usr/local/lib/python3.10/dist-packages/ipykernel/kernelbase.py\", line 361, in process_one\n\n  File \"/usr/local/lib/python3.10/dist-packages/tornado/gen.py\", line 234, in wrapper\n\n  File \"/usr/local/lib/python3.10/dist-packages/ipykernel/kernelbase.py\", line 261, in dispatch_shell\n\n  File \"/usr/local/lib/python3.10/dist-packages/tornado/gen.py\", line 234, in wrapper\n\n  File \"/usr/local/lib/python3.10/dist-packages/ipykernel/kernelbase.py\", line 539, in execute_request\n\n  File \"/usr/local/lib/python3.10/dist-packages/tornado/gen.py\", line 234, in wrapper\n\n  File \"/usr/local/lib/python3.10/dist-packages/ipykernel/ipkernel.py\", line 302, in do_execute\n\n  File \"/usr/local/lib/python3.10/dist-packages/ipykernel/zmqshell.py\", line 539, in run_cell\n\n  File \"/usr/local/lib/python3.10/dist-packages/IPython/core/interactiveshell.py\", line 2975, in run_cell\n\n  File \"/usr/local/lib/python3.10/dist-packages/IPython/core/interactiveshell.py\", line 3030, in _run_cell\n\n  File \"/usr/local/lib/python3.10/dist-packages/IPython/core/async_helpers.py\", line 78, in _pseudo_sync_runner\n\n  File \"/usr/local/lib/python3.10/dist-packages/IPython/core/interactiveshell.py\", line 3257, in run_cell_async\n\n  File \"/usr/local/lib/python3.10/dist-packages/IPython/core/interactiveshell.py\", line 3473, in run_ast_nodes\n\n  File \"/usr/local/lib/python3.10/dist-packages/IPython/core/interactiveshell.py\", line 3553, in run_code\n\n  File \"<ipython-input-136-46a7a6d761e7>\", line 2, in <cell line: 2>\n\n  File \"/usr/local/lib/python3.10/dist-packages/keras/src/utils/traceback_utils.py\", line 65, in error_handler\n\n  File \"/usr/local/lib/python3.10/dist-packages/keras/src/engine/training.py\", line 2655, in predict\n\n  File \"/usr/local/lib/python3.10/dist-packages/keras/src/engine/training.py\", line 2440, in predict_function\n\n  File \"/usr/local/lib/python3.10/dist-packages/keras/src/engine/training.py\", line 2425, in step_function\n\n  File \"/usr/local/lib/python3.10/dist-packages/keras/src/engine/training.py\", line 2413, in run_step\n\n  File \"/usr/local/lib/python3.10/dist-packages/keras/src/engine/training.py\", line 2381, in predict_step\n\n  File \"/usr/local/lib/python3.10/dist-packages/keras/src/utils/traceback_utils.py\", line 65, in error_handler\n\n  File \"/usr/local/lib/python3.10/dist-packages/keras/src/engine/training.py\", line 590, in __call__\n\n  File \"/usr/local/lib/python3.10/dist-packages/keras/src/utils/traceback_utils.py\", line 65, in error_handler\n\n  File \"/usr/local/lib/python3.10/dist-packages/keras/src/engine/base_layer.py\", line 1149, in __call__\n\n  File \"/usr/local/lib/python3.10/dist-packages/keras/src/utils/traceback_utils.py\", line 96, in error_handler\n\n  File \"/usr/local/lib/python3.10/dist-packages/keras/src/engine/sequential.py\", line 398, in call\n\n  File \"/usr/local/lib/python3.10/dist-packages/keras/src/engine/functional.py\", line 515, in call\n\n  File \"/usr/local/lib/python3.10/dist-packages/keras/src/engine/functional.py\", line 672, in _run_internal_graph\n\n  File \"/usr/local/lib/python3.10/dist-packages/keras/src/layers/rnn/base_rnn.py\", line 556, in __call__\n\n  File \"/usr/local/lib/python3.10/dist-packages/keras/src/utils/traceback_utils.py\", line 65, in error_handler\n\n  File \"/usr/local/lib/python3.10/dist-packages/keras/src/engine/base_layer.py\", line 1149, in __call__\n\n  File \"/usr/local/lib/python3.10/dist-packages/keras/src/utils/traceback_utils.py\", line 96, in error_handler\n\n  File \"/usr/local/lib/python3.10/dist-packages/keras/src/layers/rnn/lstm.py\", line 749, in call\n\n  File \"/usr/local/lib/python3.10/dist-packages/keras/src/layers/rnn/lstm.py\", line 1339, in lstm_with_backend_selection\n\n  File \"/usr/local/lib/python3.10/dist-packages/keras/src/layers/rnn/lstm.py\", line 981, in standard_lstm\n\n  File \"/usr/local/lib/python3.10/dist-packages/keras/src/backend.py\", line 5168, in rnn\n\n  File \"/usr/local/lib/python3.10/dist-packages/keras/src/backend.py\", line 5147, in _step\n\n  File \"/usr/local/lib/python3.10/dist-packages/keras/src/layers/rnn/lstm.py\", line 967, in step\n\n  File \"/usr/local/lib/python3.10/dist-packages/keras/src/backend.py\", line 2463, in dot\n\nMatrix size-incompatible: In[0]: [32,50], In[1]: [1,256]\n\t [[{{node while/MatMul}}]]\n\t [[sequential_1/lstm/PartitionedCall]] [Op:__inference_predict_function_222588]"
          ]
        }
      ],
      "source": [
        "trainPredict = model_lstm.predict(X_train)\n",
        "testPredict = model_lstm.predict(testX)\n",
        "\n",
        "# invert predictions\n",
        "trainPredict = scaler.inverse_transform(trainPredict)\n",
        "trainy = scaler.inverse_transform([trainy])\n",
        "testPredict = scaler.inverse_transform(testPredict)\n",
        "testy = scaler.inverse_transform([testy])\n",
        "\n",
        "import math\n",
        "# calculate root mean squared error\n",
        "trainScore = math.sqrt(mean_squared_error(trainy[0], trainPredict[:,0]))\n",
        "print('Train Score: %.2f RMSE' % (trainScore))\n",
        "testScore = math.sqrt(mean_squared_error(testy[0], testPredict[:,0]))\n",
        "print('Test Score: %.2f RMSE' % (testScore))"
      ]
    },
    {
      "cell_type": "markdown",
      "metadata": {
        "id": "G3mFnvGbaA8c"
      },
      "source": [
        "# GRU\n"
      ]
    },
    {
      "cell_type": "code",
      "execution_count": 138,
      "metadata": {
        "id": "9M1bBpJ2aFLg"
      },
      "outputs": [],
      "source": [
        "tf.keras.backend.clear_session()\n",
        "model=Sequential()\n",
        "model.add(GRU(32,return_sequences=True,input_shape=(10,1)))\n",
        "model.add(GRU(32,return_sequences=True))\n",
        "model.add(GRU(32))\n",
        "model.add(Dropout(0.20))\n",
        "model.add(Dense(1))\n",
        "model.compile(loss='mean_squared_error',optimizer='adam',  metrics = [\"accuracy\"])"
      ]
    },
    {
      "cell_type": "code",
      "source": [
        "model.summary()"
      ],
      "metadata": {
        "colab": {
          "base_uri": "https://localhost:8080/"
        },
        "id": "GXB6ySzytVAx",
        "outputId": "4ae249ca-6796-4c63-f7ac-ad10d13bb7f8"
      },
      "execution_count": null,
      "outputs": [
        {
          "output_type": "stream",
          "name": "stdout",
          "text": [
            "Model: \"sequential\"\n",
            "_________________________________________________________________\n",
            " Layer (type)                Output Shape              Param #   \n",
            "=================================================================\n",
            " gru (GRU)                   (None, 10, 32)            3360      \n",
            "                                                                 \n",
            " gru_1 (GRU)                 (None, 10, 32)            6336      \n",
            "                                                                 \n",
            " gru_2 (GRU)                 (None, 32)                6336      \n",
            "                                                                 \n",
            " dropout (Dropout)           (None, 32)                0         \n",
            "                                                                 \n",
            " dense (Dense)               (None, 1)                 33        \n",
            "                                                                 \n",
            "=================================================================\n",
            "Total params: 16065 (62.75 KB)\n",
            "Trainable params: 16065 (62.75 KB)\n",
            "Non-trainable params: 0 (0.00 Byte)\n",
            "_________________________________________________________________\n"
          ]
        }
      ]
    },
    {
      "cell_type": "code",
      "source": [
        "X_train =X_train.reshape(X_train.shape[0],X_train.shape[1] , 1)\n",
        "X_test = X_test.reshape(X_test.shape[0],X_test.shape[1] , 1)\n",
        "\n",
        "print(\"X_train: \", X_train.shape)\n",
        "print(\"X_test: \", X_test.shape)"
      ],
      "metadata": {
        "colab": {
          "base_uri": "https://localhost:8080/"
        },
        "id": "zmKvx8xKtqWF",
        "outputId": "b7bc2531-8f41-497c-ad0e-b35820a90c88"
      },
      "execution_count": null,
      "outputs": [
        {
          "output_type": "stream",
          "name": "stdout",
          "text": [
            "X_train:  (1200, 50, 1)\n",
            "X_test:  (185662, 50, 1)\n"
          ]
        }
      ]
    },
    {
      "cell_type": "code",
      "source": [
        "y_train.shape"
      ],
      "metadata": {
        "colab": {
          "base_uri": "https://localhost:8080/"
        },
        "id": "SCxHSvqjuCoH",
        "outputId": "ca927fce-94b6-4dad-f46b-91c63c0ba2c3"
      },
      "execution_count": null,
      "outputs": [
        {
          "output_type": "execute_result",
          "data": {
            "text/plain": [
              "(1200, 1)"
            ]
          },
          "metadata": {},
          "execution_count": 120
        }
      ]
    },
    {
      "cell_type": "code",
      "source": [
        "history = model.fit(X_train,testX,validation_data=(y_train,testy), epochs=100,batch_size=32,verbose=1)"
      ],
      "metadata": {
        "colab": {
          "base_uri": "https://localhost:8080/",
          "height": 564
        },
        "id": "C-MdRpGgtjd4",
        "outputId": "da162114-35ee-41a3-b71c-40ff04d89303"
      },
      "execution_count": null,
      "outputs": [
        {
          "output_type": "stream",
          "name": "stdout",
          "text": [
            "Epoch 1/100\n"
          ]
        },
        {
          "output_type": "error",
          "ename": "ValueError",
          "evalue": "in user code:\n\n    File \"/usr/local/lib/python3.10/dist-packages/keras/src/engine/training.py\", line 1401, in train_function  *\n        return step_function(self, iterator)\n    File \"/usr/local/lib/python3.10/dist-packages/keras/src/engine/training.py\", line 1384, in step_function  **\n        outputs = model.distribute_strategy.run(run_step, args=(data,))\n    File \"/usr/local/lib/python3.10/dist-packages/keras/src/engine/training.py\", line 1373, in run_step  **\n        outputs = model.train_step(data)\n    File \"/usr/local/lib/python3.10/dist-packages/keras/src/engine/training.py\", line 1150, in train_step\n        y_pred = self(x, training=True)\n    File \"/usr/local/lib/python3.10/dist-packages/keras/src/utils/traceback_utils.py\", line 70, in error_handler\n        raise e.with_traceback(filtered_tb) from None\n    File \"/usr/local/lib/python3.10/dist-packages/keras/src/engine/input_spec.py\", line 298, in assert_input_compatibility\n        raise ValueError(\n\n    ValueError: Input 0 of layer \"sequential\" is incompatible with the layer: expected shape=(None, 10, 1), found shape=(None, 50, 1)\n",
          "traceback": [
            "\u001b[0;31m---------------------------------------------------------------------------\u001b[0m",
            "\u001b[0;31mValueError\u001b[0m                                Traceback (most recent call last)",
            "\u001b[0;32m<ipython-input-128-ee74eab9c6c7>\u001b[0m in \u001b[0;36m<cell line: 1>\u001b[0;34m()\u001b[0m\n\u001b[0;32m----> 1\u001b[0;31m \u001b[0mhistory\u001b[0m \u001b[0;34m=\u001b[0m \u001b[0mmodel\u001b[0m\u001b[0;34m.\u001b[0m\u001b[0mfit\u001b[0m\u001b[0;34m(\u001b[0m\u001b[0mX_train\u001b[0m\u001b[0;34m,\u001b[0m\u001b[0mtestX\u001b[0m\u001b[0;34m,\u001b[0m\u001b[0mvalidation_data\u001b[0m\u001b[0;34m=\u001b[0m\u001b[0;34m(\u001b[0m\u001b[0my_train\u001b[0m\u001b[0;34m,\u001b[0m\u001b[0mtesty\u001b[0m\u001b[0;34m)\u001b[0m\u001b[0;34m,\u001b[0m \u001b[0mepochs\u001b[0m\u001b[0;34m=\u001b[0m\u001b[0;36m100\u001b[0m\u001b[0;34m,\u001b[0m\u001b[0mbatch_size\u001b[0m\u001b[0;34m=\u001b[0m\u001b[0;36m32\u001b[0m\u001b[0;34m,\u001b[0m\u001b[0mverbose\u001b[0m\u001b[0;34m=\u001b[0m\u001b[0;36m1\u001b[0m\u001b[0;34m)\u001b[0m\u001b[0;34m\u001b[0m\u001b[0;34m\u001b[0m\u001b[0m\n\u001b[0m",
            "\u001b[0;32m/usr/local/lib/python3.10/dist-packages/keras/src/utils/traceback_utils.py\u001b[0m in \u001b[0;36merror_handler\u001b[0;34m(*args, **kwargs)\u001b[0m\n\u001b[1;32m     68\u001b[0m             \u001b[0;31m# To get the full stack trace, call:\u001b[0m\u001b[0;34m\u001b[0m\u001b[0;34m\u001b[0m\u001b[0m\n\u001b[1;32m     69\u001b[0m             \u001b[0;31m# `tf.debugging.disable_traceback_filtering()`\u001b[0m\u001b[0;34m\u001b[0m\u001b[0;34m\u001b[0m\u001b[0m\n\u001b[0;32m---> 70\u001b[0;31m             \u001b[0;32mraise\u001b[0m \u001b[0me\u001b[0m\u001b[0;34m.\u001b[0m\u001b[0mwith_traceback\u001b[0m\u001b[0;34m(\u001b[0m\u001b[0mfiltered_tb\u001b[0m\u001b[0;34m)\u001b[0m \u001b[0;32mfrom\u001b[0m \u001b[0;32mNone\u001b[0m\u001b[0;34m\u001b[0m\u001b[0;34m\u001b[0m\u001b[0m\n\u001b[0m\u001b[1;32m     71\u001b[0m         \u001b[0;32mfinally\u001b[0m\u001b[0;34m:\u001b[0m\u001b[0;34m\u001b[0m\u001b[0;34m\u001b[0m\u001b[0m\n\u001b[1;32m     72\u001b[0m             \u001b[0;32mdel\u001b[0m \u001b[0mfiltered_tb\u001b[0m\u001b[0;34m\u001b[0m\u001b[0;34m\u001b[0m\u001b[0m\n",
            "\u001b[0;32m/usr/local/lib/python3.10/dist-packages/keras/src/engine/training.py\u001b[0m in \u001b[0;36mtf__train_function\u001b[0;34m(iterator)\u001b[0m\n\u001b[1;32m     13\u001b[0m                 \u001b[0;32mtry\u001b[0m\u001b[0;34m:\u001b[0m\u001b[0;34m\u001b[0m\u001b[0;34m\u001b[0m\u001b[0m\n\u001b[1;32m     14\u001b[0m                     \u001b[0mdo_return\u001b[0m \u001b[0;34m=\u001b[0m \u001b[0;32mTrue\u001b[0m\u001b[0;34m\u001b[0m\u001b[0;34m\u001b[0m\u001b[0m\n\u001b[0;32m---> 15\u001b[0;31m                     \u001b[0mretval_\u001b[0m \u001b[0;34m=\u001b[0m \u001b[0mag__\u001b[0m\u001b[0;34m.\u001b[0m\u001b[0mconverted_call\u001b[0m\u001b[0;34m(\u001b[0m\u001b[0mag__\u001b[0m\u001b[0;34m.\u001b[0m\u001b[0mld\u001b[0m\u001b[0;34m(\u001b[0m\u001b[0mstep_function\u001b[0m\u001b[0;34m)\u001b[0m\u001b[0;34m,\u001b[0m \u001b[0;34m(\u001b[0m\u001b[0mag__\u001b[0m\u001b[0;34m.\u001b[0m\u001b[0mld\u001b[0m\u001b[0;34m(\u001b[0m\u001b[0mself\u001b[0m\u001b[0;34m)\u001b[0m\u001b[0;34m,\u001b[0m \u001b[0mag__\u001b[0m\u001b[0;34m.\u001b[0m\u001b[0mld\u001b[0m\u001b[0;34m(\u001b[0m\u001b[0miterator\u001b[0m\u001b[0;34m)\u001b[0m\u001b[0;34m)\u001b[0m\u001b[0;34m,\u001b[0m \u001b[0;32mNone\u001b[0m\u001b[0;34m,\u001b[0m \u001b[0mfscope\u001b[0m\u001b[0;34m)\u001b[0m\u001b[0;34m\u001b[0m\u001b[0;34m\u001b[0m\u001b[0m\n\u001b[0m\u001b[1;32m     16\u001b[0m                 \u001b[0;32mexcept\u001b[0m\u001b[0;34m:\u001b[0m\u001b[0;34m\u001b[0m\u001b[0;34m\u001b[0m\u001b[0m\n\u001b[1;32m     17\u001b[0m                     \u001b[0mdo_return\u001b[0m \u001b[0;34m=\u001b[0m \u001b[0;32mFalse\u001b[0m\u001b[0;34m\u001b[0m\u001b[0;34m\u001b[0m\u001b[0m\n",
            "\u001b[0;31mValueError\u001b[0m: in user code:\n\n    File \"/usr/local/lib/python3.10/dist-packages/keras/src/engine/training.py\", line 1401, in train_function  *\n        return step_function(self, iterator)\n    File \"/usr/local/lib/python3.10/dist-packages/keras/src/engine/training.py\", line 1384, in step_function  **\n        outputs = model.distribute_strategy.run(run_step, args=(data,))\n    File \"/usr/local/lib/python3.10/dist-packages/keras/src/engine/training.py\", line 1373, in run_step  **\n        outputs = model.train_step(data)\n    File \"/usr/local/lib/python3.10/dist-packages/keras/src/engine/training.py\", line 1150, in train_step\n        y_pred = self(x, training=True)\n    File \"/usr/local/lib/python3.10/dist-packages/keras/src/utils/traceback_utils.py\", line 70, in error_handler\n        raise e.with_traceback(filtered_tb) from None\n    File \"/usr/local/lib/python3.10/dist-packages/keras/src/engine/input_spec.py\", line 298, in assert_input_compatibility\n        raise ValueError(\n\n    ValueError: Input 0 of layer \"sequential\" is incompatible with the layer: expected shape=(None, 10, 1), found shape=(None, 50, 1)\n"
          ]
        }
      ]
    },
    {
      "cell_type": "code",
      "source": [
        "train_predict=model.predict(X_train)\n",
        "test_predict=model.predict(X_test)\n",
        "train_predict.shape, test_predict.shape"
      ],
      "metadata": {
        "colab": {
          "base_uri": "https://localhost:8080/",
          "height": 582
        },
        "id": "TEPIxXTA0VNq",
        "outputId": "d1d18a3a-d2f2-41ea-b830-57dc0e289bde"
      },
      "execution_count": null,
      "outputs": [
        {
          "output_type": "error",
          "ename": "ValueError",
          "evalue": "in user code:\n\n    File \"/usr/local/lib/python3.10/dist-packages/keras/src/engine/training.py\", line 2440, in predict_function  *\n        return step_function(self, iterator)\n    File \"/usr/local/lib/python3.10/dist-packages/keras/src/engine/training.py\", line 2425, in step_function  **\n        outputs = model.distribute_strategy.run(run_step, args=(data,))\n    File \"/usr/local/lib/python3.10/dist-packages/keras/src/engine/training.py\", line 2413, in run_step  **\n        outputs = model.predict_step(data)\n    File \"/usr/local/lib/python3.10/dist-packages/keras/src/engine/training.py\", line 2381, in predict_step\n        return self(x, training=False)\n    File \"/usr/local/lib/python3.10/dist-packages/keras/src/utils/traceback_utils.py\", line 70, in error_handler\n        raise e.with_traceback(filtered_tb) from None\n    File \"/usr/local/lib/python3.10/dist-packages/keras/src/engine/input_spec.py\", line 298, in assert_input_compatibility\n        raise ValueError(\n\n    ValueError: Input 0 of layer \"sequential\" is incompatible with the layer: expected shape=(None, 10, 1), found shape=(None, 50, 1)\n",
          "traceback": [
            "\u001b[0;31m---------------------------------------------------------------------------\u001b[0m",
            "\u001b[0;31mValueError\u001b[0m                                Traceback (most recent call last)",
            "\u001b[0;32m<ipython-input-129-6b92eb2bc4f4>\u001b[0m in \u001b[0;36m<cell line: 1>\u001b[0;34m()\u001b[0m\n\u001b[0;32m----> 1\u001b[0;31m \u001b[0mtrain_predict\u001b[0m\u001b[0;34m=\u001b[0m\u001b[0mmodel\u001b[0m\u001b[0;34m.\u001b[0m\u001b[0mpredict\u001b[0m\u001b[0;34m(\u001b[0m\u001b[0mX_train\u001b[0m\u001b[0;34m)\u001b[0m\u001b[0;34m\u001b[0m\u001b[0;34m\u001b[0m\u001b[0m\n\u001b[0m\u001b[1;32m      2\u001b[0m \u001b[0mtest_predict\u001b[0m\u001b[0;34m=\u001b[0m\u001b[0mmodel\u001b[0m\u001b[0;34m.\u001b[0m\u001b[0mpredict\u001b[0m\u001b[0;34m(\u001b[0m\u001b[0mX_test\u001b[0m\u001b[0;34m)\u001b[0m\u001b[0;34m\u001b[0m\u001b[0;34m\u001b[0m\u001b[0m\n\u001b[1;32m      3\u001b[0m \u001b[0mtrain_predict\u001b[0m\u001b[0;34m.\u001b[0m\u001b[0mshape\u001b[0m\u001b[0;34m,\u001b[0m \u001b[0mtest_predict\u001b[0m\u001b[0;34m.\u001b[0m\u001b[0mshape\u001b[0m\u001b[0;34m\u001b[0m\u001b[0;34m\u001b[0m\u001b[0m\n",
            "\u001b[0;32m/usr/local/lib/python3.10/dist-packages/keras/src/utils/traceback_utils.py\u001b[0m in \u001b[0;36merror_handler\u001b[0;34m(*args, **kwargs)\u001b[0m\n\u001b[1;32m     68\u001b[0m             \u001b[0;31m# To get the full stack trace, call:\u001b[0m\u001b[0;34m\u001b[0m\u001b[0;34m\u001b[0m\u001b[0m\n\u001b[1;32m     69\u001b[0m             \u001b[0;31m# `tf.debugging.disable_traceback_filtering()`\u001b[0m\u001b[0;34m\u001b[0m\u001b[0;34m\u001b[0m\u001b[0m\n\u001b[0;32m---> 70\u001b[0;31m             \u001b[0;32mraise\u001b[0m \u001b[0me\u001b[0m\u001b[0;34m.\u001b[0m\u001b[0mwith_traceback\u001b[0m\u001b[0;34m(\u001b[0m\u001b[0mfiltered_tb\u001b[0m\u001b[0;34m)\u001b[0m \u001b[0;32mfrom\u001b[0m \u001b[0;32mNone\u001b[0m\u001b[0;34m\u001b[0m\u001b[0;34m\u001b[0m\u001b[0m\n\u001b[0m\u001b[1;32m     71\u001b[0m         \u001b[0;32mfinally\u001b[0m\u001b[0;34m:\u001b[0m\u001b[0;34m\u001b[0m\u001b[0;34m\u001b[0m\u001b[0m\n\u001b[1;32m     72\u001b[0m             \u001b[0;32mdel\u001b[0m \u001b[0mfiltered_tb\u001b[0m\u001b[0;34m\u001b[0m\u001b[0;34m\u001b[0m\u001b[0m\n",
            "\u001b[0;32m/usr/local/lib/python3.10/dist-packages/keras/src/engine/training.py\u001b[0m in \u001b[0;36mtf__predict_function\u001b[0;34m(iterator)\u001b[0m\n\u001b[1;32m     13\u001b[0m                 \u001b[0;32mtry\u001b[0m\u001b[0;34m:\u001b[0m\u001b[0;34m\u001b[0m\u001b[0;34m\u001b[0m\u001b[0m\n\u001b[1;32m     14\u001b[0m                     \u001b[0mdo_return\u001b[0m \u001b[0;34m=\u001b[0m \u001b[0;32mTrue\u001b[0m\u001b[0;34m\u001b[0m\u001b[0;34m\u001b[0m\u001b[0m\n\u001b[0;32m---> 15\u001b[0;31m                     \u001b[0mretval_\u001b[0m \u001b[0;34m=\u001b[0m \u001b[0mag__\u001b[0m\u001b[0;34m.\u001b[0m\u001b[0mconverted_call\u001b[0m\u001b[0;34m(\u001b[0m\u001b[0mag__\u001b[0m\u001b[0;34m.\u001b[0m\u001b[0mld\u001b[0m\u001b[0;34m(\u001b[0m\u001b[0mstep_function\u001b[0m\u001b[0;34m)\u001b[0m\u001b[0;34m,\u001b[0m \u001b[0;34m(\u001b[0m\u001b[0mag__\u001b[0m\u001b[0;34m.\u001b[0m\u001b[0mld\u001b[0m\u001b[0;34m(\u001b[0m\u001b[0mself\u001b[0m\u001b[0;34m)\u001b[0m\u001b[0;34m,\u001b[0m \u001b[0mag__\u001b[0m\u001b[0;34m.\u001b[0m\u001b[0mld\u001b[0m\u001b[0;34m(\u001b[0m\u001b[0miterator\u001b[0m\u001b[0;34m)\u001b[0m\u001b[0;34m)\u001b[0m\u001b[0;34m,\u001b[0m \u001b[0;32mNone\u001b[0m\u001b[0;34m,\u001b[0m \u001b[0mfscope\u001b[0m\u001b[0;34m)\u001b[0m\u001b[0;34m\u001b[0m\u001b[0;34m\u001b[0m\u001b[0m\n\u001b[0m\u001b[1;32m     16\u001b[0m                 \u001b[0;32mexcept\u001b[0m\u001b[0;34m:\u001b[0m\u001b[0;34m\u001b[0m\u001b[0;34m\u001b[0m\u001b[0m\n\u001b[1;32m     17\u001b[0m                     \u001b[0mdo_return\u001b[0m \u001b[0;34m=\u001b[0m \u001b[0;32mFalse\u001b[0m\u001b[0;34m\u001b[0m\u001b[0;34m\u001b[0m\u001b[0m\n",
            "\u001b[0;31mValueError\u001b[0m: in user code:\n\n    File \"/usr/local/lib/python3.10/dist-packages/keras/src/engine/training.py\", line 2440, in predict_function  *\n        return step_function(self, iterator)\n    File \"/usr/local/lib/python3.10/dist-packages/keras/src/engine/training.py\", line 2425, in step_function  **\n        outputs = model.distribute_strategy.run(run_step, args=(data,))\n    File \"/usr/local/lib/python3.10/dist-packages/keras/src/engine/training.py\", line 2413, in run_step  **\n        outputs = model.predict_step(data)\n    File \"/usr/local/lib/python3.10/dist-packages/keras/src/engine/training.py\", line 2381, in predict_step\n        return self(x, training=False)\n    File \"/usr/local/lib/python3.10/dist-packages/keras/src/utils/traceback_utils.py\", line 70, in error_handler\n        raise e.with_traceback(filtered_tb) from None\n    File \"/usr/local/lib/python3.10/dist-packages/keras/src/engine/input_spec.py\", line 298, in assert_input_compatibility\n        raise ValueError(\n\n    ValueError: Input 0 of layer \"sequential\" is incompatible with the layer: expected shape=(None, 10, 1), found shape=(None, 50, 1)\n"
          ]
        }
      ]
    },
    {
      "cell_type": "code",
      "source": [
        "train_predict = scaler.inverse_transform(train_predict)\n",
        "test_predict = scaler.inverse_transform(test_predict)\n",
        "original_ytrain = scaler.inverse_transform(y_train.reshape(-1,1))\n",
        "original_ytest = scaler.inverse_transform(y_test.reshape(-1,1))"
      ],
      "metadata": {
        "id": "qkidnalH0fxo",
        "outputId": "3ad6860f-262a-45af-bc9e-4bcbf39773f3",
        "colab": {
          "base_uri": "https://localhost:8080/",
          "height": 193
        }
      },
      "execution_count": null,
      "outputs": [
        {
          "output_type": "error",
          "ename": "NameError",
          "evalue": "name 'train_predict' is not defined",
          "traceback": [
            "\u001b[0;31m---------------------------------------------------------------------------\u001b[0m",
            "\u001b[0;31mNameError\u001b[0m                                 Traceback (most recent call last)",
            "\u001b[0;32m<ipython-input-130-963bd875f1cb>\u001b[0m in \u001b[0;36m<cell line: 1>\u001b[0;34m()\u001b[0m\n\u001b[0;32m----> 1\u001b[0;31m \u001b[0mtrain_predict\u001b[0m \u001b[0;34m=\u001b[0m \u001b[0mscaler\u001b[0m\u001b[0;34m.\u001b[0m\u001b[0minverse_transform\u001b[0m\u001b[0;34m(\u001b[0m\u001b[0mtrain_predict\u001b[0m\u001b[0;34m)\u001b[0m\u001b[0;34m\u001b[0m\u001b[0;34m\u001b[0m\u001b[0m\n\u001b[0m\u001b[1;32m      2\u001b[0m \u001b[0mtest_predict\u001b[0m \u001b[0;34m=\u001b[0m \u001b[0mscaler\u001b[0m\u001b[0;34m.\u001b[0m\u001b[0minverse_transform\u001b[0m\u001b[0;34m(\u001b[0m\u001b[0mtest_predict\u001b[0m\u001b[0;34m)\u001b[0m\u001b[0;34m\u001b[0m\u001b[0;34m\u001b[0m\u001b[0m\n\u001b[1;32m      3\u001b[0m \u001b[0moriginal_ytrain\u001b[0m \u001b[0;34m=\u001b[0m \u001b[0mscaler\u001b[0m\u001b[0;34m.\u001b[0m\u001b[0minverse_transform\u001b[0m\u001b[0;34m(\u001b[0m\u001b[0my_train\u001b[0m\u001b[0;34m.\u001b[0m\u001b[0mreshape\u001b[0m\u001b[0;34m(\u001b[0m\u001b[0;34m-\u001b[0m\u001b[0;36m1\u001b[0m\u001b[0;34m,\u001b[0m\u001b[0;36m1\u001b[0m\u001b[0;34m)\u001b[0m\u001b[0;34m)\u001b[0m\u001b[0;34m\u001b[0m\u001b[0;34m\u001b[0m\u001b[0m\n\u001b[1;32m      4\u001b[0m \u001b[0moriginal_ytest\u001b[0m \u001b[0;34m=\u001b[0m \u001b[0mscaler\u001b[0m\u001b[0;34m.\u001b[0m\u001b[0minverse_transform\u001b[0m\u001b[0;34m(\u001b[0m\u001b[0my_test\u001b[0m\u001b[0;34m.\u001b[0m\u001b[0mreshape\u001b[0m\u001b[0;34m(\u001b[0m\u001b[0;34m-\u001b[0m\u001b[0;36m1\u001b[0m\u001b[0;34m,\u001b[0m\u001b[0;36m1\u001b[0m\u001b[0;34m)\u001b[0m\u001b[0;34m)\u001b[0m\u001b[0;34m\u001b[0m\u001b[0;34m\u001b[0m\u001b[0m\n",
            "\u001b[0;31mNameError\u001b[0m: name 'train_predict' is not defined"
          ]
        }
      ]
    },
    {
      "cell_type": "markdown",
      "metadata": {
        "id": "4sf8FPqvY9US"
      },
      "source": [
        "--------------------------------------------------------------------------------------"
      ]
    },
    {
      "cell_type": "code",
      "execution_count": null,
      "metadata": {
        "id": "Z9gSA8WKs3fl"
      },
      "outputs": [],
      "source": [
        "y_train = scaler.fit_transform(y_train)"
      ]
    },
    {
      "cell_type": "code",
      "execution_count": null,
      "metadata": {
        "colab": {
          "base_uri": "https://localhost:8080/"
        },
        "id": "9TcK7Avss9Li",
        "outputId": "c9aa9952-f1f9-4f43-e77c-37f6f5515d9c"
      },
      "outputs": [
        {
          "name": "stdout",
          "output_type": "stream",
          "text": [
            "Epoch 1/10\n",
            "120/120 [==============================] - 9s 48ms/step - loss: 0.0548 - accuracy: 8.3333e-04\n",
            "Epoch 2/10\n",
            "120/120 [==============================] - 4s 34ms/step - loss: 0.0086 - accuracy: 0.0017\n",
            "Epoch 3/10\n",
            "120/120 [==============================] - 4s 35ms/step - loss: 0.0056 - accuracy: 0.0017\n",
            "Epoch 4/10\n",
            "120/120 [==============================] - 6s 46ms/step - loss: 0.0047 - accuracy: 0.0017\n",
            "Epoch 5/10\n",
            "120/120 [==============================] - 4s 35ms/step - loss: 0.0042 - accuracy: 0.0017\n",
            "Epoch 6/10\n",
            "120/120 [==============================] - 4s 34ms/step - loss: 0.0037 - accuracy: 0.0017\n",
            "Epoch 7/10\n",
            "120/120 [==============================] - 6s 46ms/step - loss: 0.0032 - accuracy: 0.0017\n",
            "Epoch 8/10\n",
            "120/120 [==============================] - 4s 32ms/step - loss: 0.0034 - accuracy: 0.0017\n",
            "Epoch 9/10\n",
            "120/120 [==============================] - 4s 34ms/step - loss: 0.0032 - accuracy: 0.0017\n",
            "Epoch 10/10\n",
            "120/120 [==============================] - 6s 46ms/step - loss: 0.0033 - accuracy: 0.0017\n"
          ]
        }
      ],
      "source": [
        "\n",
        "\n",
        "model_lstm = Sequential()\n",
        "model_lstm.add(\n",
        "    LSTM(64,return_sequences=True,input_shape = (X_train.shape[1],1))) #64 lstm neuron block\n",
        "model_lstm.add(\n",
        "    LSTM(64, return_sequences= False))\n",
        "model_lstm.add(Dense(32))\n",
        "model_lstm.add(Dense(1))\n",
        "model_lstm.compile(loss = \"mean_squared_error\", optimizer = \"adam\", metrics = [\"accuracy\"])\n",
        "history2 = model_lstm.fit(X_train, y_train, epochs = 10, batch_size = 10)"
      ]
    },
    {
      "cell_type": "code",
      "execution_count": null,
      "metadata": {
        "colab": {
          "base_uri": "https://localhost:8080/"
        },
        "id": "hPNJ5WhbtKG_",
        "outputId": "a7d568e9-9131-4e7e-abbc-fbc7ea298e20"
      },
      "outputs": [
        {
          "data": {
            "text/plain": [
              "date      2013-03-18\n",
              "open            43.0\n",
              "high           43.54\n",
              "low            42.75\n",
              "close            NaN\n",
              "volume           NaN\n",
              "Name             NaN\n",
              "Name: 65341, dtype: object"
            ]
          },
          "execution_count": 26,
          "metadata": {},
          "output_type": "execute_result"
        }
      ],
      "source": [
        "data.iloc[-1]"
      ]
    },
    {
      "cell_type": "code",
      "execution_count": null,
      "metadata": {
        "colab": {
          "base_uri": "https://localhost:8080/",
          "height": 356
        },
        "id": "5Pm1AuMJtOOp",
        "outputId": "8797ebcb-d186-4e1d-a82f-cd0b8f592396"
      },
      "outputs": [
        {
          "ename": "ValueError",
          "evalue": "cannot reshape array of size 350 into shape (1,50,1)",
          "output_type": "error",
          "traceback": [
            "\u001b[0;31m---------------------------------------------------------------------------\u001b[0m",
            "\u001b[0;31mValueError\u001b[0m                                Traceback (most recent call last)",
            "\u001b[0;32m<ipython-input-37-fa6d0d39e007>\u001b[0m in \u001b[0;36m<cell line: 4>\u001b[0;34m()\u001b[0m\n\u001b[1;32m      2\u001b[0m \u001b[0;31m#X_input = np.reshape(X_input, (-1,1))\u001b[0m\u001b[0;34m\u001b[0m\u001b[0;34m\u001b[0m\u001b[0m\n\u001b[1;32m      3\u001b[0m \u001b[0;31m#X_input = scaler.fit_transform(X_input)\u001b[0m\u001b[0;34m\u001b[0m\u001b[0;34m\u001b[0m\u001b[0m\n\u001b[0;32m----> 4\u001b[0;31m \u001b[0mX_input\u001b[0m \u001b[0;34m=\u001b[0m \u001b[0mnp\u001b[0m\u001b[0;34m.\u001b[0m\u001b[0mreshape\u001b[0m\u001b[0;34m(\u001b[0m\u001b[0mX_input\u001b[0m\u001b[0;34m,\u001b[0m \u001b[0;34m(\u001b[0m\u001b[0;36m1\u001b[0m\u001b[0;34m,\u001b[0m\u001b[0;36m50\u001b[0m\u001b[0;34m,\u001b[0m\u001b[0;36m1\u001b[0m\u001b[0;34m)\u001b[0m\u001b[0;34m)\u001b[0m\u001b[0;34m\u001b[0m\u001b[0;34m\u001b[0m\u001b[0m\n\u001b[0m\u001b[1;32m      5\u001b[0m \u001b[0mprint\u001b[0m\u001b[0;34m(\u001b[0m\u001b[0;34m\"Shape of X_input :\"\u001b[0m\u001b[0;34m,\u001b[0m \u001b[0mX_input\u001b[0m\u001b[0;34m.\u001b[0m\u001b[0mshape\u001b[0m\u001b[0;34m)\u001b[0m\u001b[0;34m\u001b[0m\u001b[0;34m\u001b[0m\u001b[0m\n\u001b[1;32m      6\u001b[0m \u001b[0mX_input\u001b[0m\u001b[0;34m\u001b[0m\u001b[0;34m\u001b[0m\u001b[0m\n",
            "\u001b[0;32m/usr/local/lib/python3.10/dist-packages/numpy/core/fromnumeric.py\u001b[0m in \u001b[0;36mreshape\u001b[0;34m(a, newshape, order)\u001b[0m\n\u001b[1;32m    283\u001b[0m            [5, 6]])\n\u001b[1;32m    284\u001b[0m     \"\"\"\n\u001b[0;32m--> 285\u001b[0;31m     \u001b[0;32mreturn\u001b[0m \u001b[0m_wrapfunc\u001b[0m\u001b[0;34m(\u001b[0m\u001b[0ma\u001b[0m\u001b[0;34m,\u001b[0m \u001b[0;34m'reshape'\u001b[0m\u001b[0;34m,\u001b[0m \u001b[0mnewshape\u001b[0m\u001b[0;34m,\u001b[0m \u001b[0morder\u001b[0m\u001b[0;34m=\u001b[0m\u001b[0morder\u001b[0m\u001b[0;34m)\u001b[0m\u001b[0;34m\u001b[0m\u001b[0;34m\u001b[0m\u001b[0m\n\u001b[0m\u001b[1;32m    286\u001b[0m \u001b[0;34m\u001b[0m\u001b[0m\n\u001b[1;32m    287\u001b[0m \u001b[0;34m\u001b[0m\u001b[0m\n",
            "\u001b[0;32m/usr/local/lib/python3.10/dist-packages/numpy/core/fromnumeric.py\u001b[0m in \u001b[0;36m_wrapfunc\u001b[0;34m(obj, method, *args, **kwds)\u001b[0m\n\u001b[1;32m     57\u001b[0m \u001b[0;34m\u001b[0m\u001b[0m\n\u001b[1;32m     58\u001b[0m     \u001b[0;32mtry\u001b[0m\u001b[0;34m:\u001b[0m\u001b[0;34m\u001b[0m\u001b[0;34m\u001b[0m\u001b[0m\n\u001b[0;32m---> 59\u001b[0;31m         \u001b[0;32mreturn\u001b[0m \u001b[0mbound\u001b[0m\u001b[0;34m(\u001b[0m\u001b[0;34m*\u001b[0m\u001b[0margs\u001b[0m\u001b[0;34m,\u001b[0m \u001b[0;34m**\u001b[0m\u001b[0mkwds\u001b[0m\u001b[0;34m)\u001b[0m\u001b[0;34m\u001b[0m\u001b[0;34m\u001b[0m\u001b[0m\n\u001b[0m\u001b[1;32m     60\u001b[0m     \u001b[0;32mexcept\u001b[0m \u001b[0mTypeError\u001b[0m\u001b[0;34m:\u001b[0m\u001b[0;34m\u001b[0m\u001b[0;34m\u001b[0m\u001b[0m\n\u001b[1;32m     61\u001b[0m         \u001b[0;31m# A TypeError occurs if the object does have such a method in its\u001b[0m\u001b[0;34m\u001b[0m\u001b[0;34m\u001b[0m\u001b[0m\n",
            "\u001b[0;31mValueError\u001b[0m: cannot reshape array of size 350 into shape (1,50,1)"
          ]
        }
      ],
      "source": [
        "X_input = data.iloc[-timesteps:].values\n",
        "#X_input = np.reshape(X_input, (-1,1))\n",
        "#X_input = scaler.fit_transform(X_input)\n",
        "X_input = np.reshape(X_input, (1,50,1))\n",
        "print(\"Shape of X_input :\", X_input.shape)\n",
        "X_input"
      ]
    },
    {
      "cell_type": "code",
      "source": [],
      "metadata": {
        "id": "qJRY6ERJ0HnI"
      },
      "execution_count": null,
      "outputs": []
    },
    {
      "cell_type": "code",
      "execution_count": null,
      "metadata": {
        "colab": {
          "base_uri": "https://localhost:8080/",
          "height": 738
        },
        "id": "ys28nXIatsnB",
        "outputId": "607a0694-19d0-4be3-a711-d1810993817f"
      },
      "outputs": [
        {
          "output_type": "error",
          "ename": "TypeError",
          "evalue": "in user code:\n\n    File \"/usr/local/lib/python3.10/dist-packages/keras/src/engine/training.py\", line 2440, in predict_function  *\n        return step_function(self, iterator)\n    File \"/usr/local/lib/python3.10/dist-packages/keras/src/engine/training.py\", line 2425, in step_function  **\n        outputs = model.distribute_strategy.run(run_step, args=(data,))\n    File \"/usr/local/lib/python3.10/dist-packages/keras/src/engine/training.py\", line 2413, in run_step  **\n        outputs = model.predict_step(data)\n    File \"/usr/local/lib/python3.10/dist-packages/keras/src/engine/training.py\", line 2381, in predict_step\n        return self(x, training=False)\n    File \"/usr/local/lib/python3.10/dist-packages/keras/src/utils/traceback_utils.py\", line 70, in error_handler\n        raise e.with_traceback(filtered_tb) from None\n    File \"/usr/local/lib/python3.10/dist-packages/keras/src/layers/rnn/base_rnn.py\", line 662, in call\n        timesteps = input_shape[0] if self.time_major else input_shape[1]\n\n    TypeError: Exception encountered when calling layer 'simple_rnn_8' (type SimpleRNN).\n    \n    'NoneType' object is not subscriptable\n    \n    Call arguments received by layer 'simple_rnn_8' (type SimpleRNN):\n      • inputs=tf.Tensor(shape=<unknown>, dtype=float32)\n      • mask=None\n      • training=False\n      • initial_state=None\n",
          "traceback": [
            "\u001b[0;31m---------------------------------------------------------------------------\u001b[0m",
            "\u001b[0;31mTypeError\u001b[0m                                 Traceback (most recent call last)",
            "\u001b[0;32m<ipython-input-126-08d720502453>\u001b[0m in \u001b[0;36m<cell line: 1>\u001b[0;34m()\u001b[0m\n\u001b[0;32m----> 1\u001b[0;31m \u001b[0msimple_RNN_prediction\u001b[0m \u001b[0;34m=\u001b[0m \u001b[0mscaler\u001b[0m\u001b[0;34m.\u001b[0m\u001b[0minverse_transform\u001b[0m\u001b[0;34m(\u001b[0m\u001b[0mregressor\u001b[0m\u001b[0;34m.\u001b[0m\u001b[0mpredict\u001b[0m\u001b[0;34m(\u001b[0m\u001b[0mX_train\u001b[0m\u001b[0;34m)\u001b[0m\u001b[0;34m)\u001b[0m\u001b[0;34m\u001b[0m\u001b[0;34m\u001b[0m\u001b[0m\n\u001b[0m\u001b[1;32m      2\u001b[0m \u001b[0mLSTM_prediction\u001b[0m \u001b[0;34m=\u001b[0m \u001b[0mscaler\u001b[0m\u001b[0;34m.\u001b[0m\u001b[0minverse_transform\u001b[0m\u001b[0;34m(\u001b[0m\u001b[0mmodel_lstm\u001b[0m\u001b[0;34m.\u001b[0m\u001b[0mpredict\u001b[0m\u001b[0;34m(\u001b[0m\u001b[0mX_train\u001b[0m\u001b[0;34m)\u001b[0m\u001b[0;34m)\u001b[0m\u001b[0;34m\u001b[0m\u001b[0;34m\u001b[0m\u001b[0m\n\u001b[1;32m      3\u001b[0m \u001b[0mprint\u001b[0m\u001b[0;34m(\u001b[0m\u001b[0;34m\"Simple RNN, Open price prediction for 3/18/2017      :\"\u001b[0m\u001b[0;34m,\u001b[0m \u001b[0msimple_RNN_prediction\u001b[0m\u001b[0;34m[\u001b[0m\u001b[0;36m0\u001b[0m\u001b[0;34m,\u001b[0m\u001b[0;36m0\u001b[0m\u001b[0;34m]\u001b[0m\u001b[0;34m)\u001b[0m\u001b[0;34m\u001b[0m\u001b[0;34m\u001b[0m\u001b[0m\n\u001b[1;32m      4\u001b[0m \u001b[0mprint\u001b[0m\u001b[0;34m(\u001b[0m\u001b[0;34m\"LSTM prediction, Open price prediction for 3/18/2017 :\"\u001b[0m\u001b[0;34m,\u001b[0m \u001b[0mLSTM_prediction\u001b[0m\u001b[0;34m[\u001b[0m\u001b[0;36m0\u001b[0m\u001b[0;34m,\u001b[0m\u001b[0;36m0\u001b[0m\u001b[0;34m]\u001b[0m\u001b[0;34m)\u001b[0m\u001b[0;34m\u001b[0m\u001b[0;34m\u001b[0m\u001b[0m\n",
            "\u001b[0;32m/usr/local/lib/python3.10/dist-packages/keras/src/utils/traceback_utils.py\u001b[0m in \u001b[0;36merror_handler\u001b[0;34m(*args, **kwargs)\u001b[0m\n\u001b[1;32m     68\u001b[0m             \u001b[0;31m# To get the full stack trace, call:\u001b[0m\u001b[0;34m\u001b[0m\u001b[0;34m\u001b[0m\u001b[0m\n\u001b[1;32m     69\u001b[0m             \u001b[0;31m# `tf.debugging.disable_traceback_filtering()`\u001b[0m\u001b[0;34m\u001b[0m\u001b[0;34m\u001b[0m\u001b[0m\n\u001b[0;32m---> 70\u001b[0;31m             \u001b[0;32mraise\u001b[0m \u001b[0me\u001b[0m\u001b[0;34m.\u001b[0m\u001b[0mwith_traceback\u001b[0m\u001b[0;34m(\u001b[0m\u001b[0mfiltered_tb\u001b[0m\u001b[0;34m)\u001b[0m \u001b[0;32mfrom\u001b[0m \u001b[0;32mNone\u001b[0m\u001b[0;34m\u001b[0m\u001b[0;34m\u001b[0m\u001b[0m\n\u001b[0m\u001b[1;32m     71\u001b[0m         \u001b[0;32mfinally\u001b[0m\u001b[0;34m:\u001b[0m\u001b[0;34m\u001b[0m\u001b[0;34m\u001b[0m\u001b[0m\n\u001b[1;32m     72\u001b[0m             \u001b[0;32mdel\u001b[0m \u001b[0mfiltered_tb\u001b[0m\u001b[0;34m\u001b[0m\u001b[0;34m\u001b[0m\u001b[0m\n",
            "\u001b[0;32m/usr/local/lib/python3.10/dist-packages/keras/src/engine/training.py\u001b[0m in \u001b[0;36mtf__predict_function\u001b[0;34m(iterator)\u001b[0m\n\u001b[1;32m     13\u001b[0m                 \u001b[0;32mtry\u001b[0m\u001b[0;34m:\u001b[0m\u001b[0;34m\u001b[0m\u001b[0;34m\u001b[0m\u001b[0m\n\u001b[1;32m     14\u001b[0m                     \u001b[0mdo_return\u001b[0m \u001b[0;34m=\u001b[0m \u001b[0;32mTrue\u001b[0m\u001b[0;34m\u001b[0m\u001b[0;34m\u001b[0m\u001b[0m\n\u001b[0;32m---> 15\u001b[0;31m                     \u001b[0mretval_\u001b[0m \u001b[0;34m=\u001b[0m \u001b[0mag__\u001b[0m\u001b[0;34m.\u001b[0m\u001b[0mconverted_call\u001b[0m\u001b[0;34m(\u001b[0m\u001b[0mag__\u001b[0m\u001b[0;34m.\u001b[0m\u001b[0mld\u001b[0m\u001b[0;34m(\u001b[0m\u001b[0mstep_function\u001b[0m\u001b[0;34m)\u001b[0m\u001b[0;34m,\u001b[0m \u001b[0;34m(\u001b[0m\u001b[0mag__\u001b[0m\u001b[0;34m.\u001b[0m\u001b[0mld\u001b[0m\u001b[0;34m(\u001b[0m\u001b[0mself\u001b[0m\u001b[0;34m)\u001b[0m\u001b[0;34m,\u001b[0m \u001b[0mag__\u001b[0m\u001b[0;34m.\u001b[0m\u001b[0mld\u001b[0m\u001b[0;34m(\u001b[0m\u001b[0miterator\u001b[0m\u001b[0;34m)\u001b[0m\u001b[0;34m)\u001b[0m\u001b[0;34m,\u001b[0m \u001b[0;32mNone\u001b[0m\u001b[0;34m,\u001b[0m \u001b[0mfscope\u001b[0m\u001b[0;34m)\u001b[0m\u001b[0;34m\u001b[0m\u001b[0;34m\u001b[0m\u001b[0m\n\u001b[0m\u001b[1;32m     16\u001b[0m                 \u001b[0;32mexcept\u001b[0m\u001b[0;34m:\u001b[0m\u001b[0;34m\u001b[0m\u001b[0;34m\u001b[0m\u001b[0m\n\u001b[1;32m     17\u001b[0m                     \u001b[0mdo_return\u001b[0m \u001b[0;34m=\u001b[0m \u001b[0;32mFalse\u001b[0m\u001b[0;34m\u001b[0m\u001b[0;34m\u001b[0m\u001b[0m\n",
            "\u001b[0;31mTypeError\u001b[0m: in user code:\n\n    File \"/usr/local/lib/python3.10/dist-packages/keras/src/engine/training.py\", line 2440, in predict_function  *\n        return step_function(self, iterator)\n    File \"/usr/local/lib/python3.10/dist-packages/keras/src/engine/training.py\", line 2425, in step_function  **\n        outputs = model.distribute_strategy.run(run_step, args=(data,))\n    File \"/usr/local/lib/python3.10/dist-packages/keras/src/engine/training.py\", line 2413, in run_step  **\n        outputs = model.predict_step(data)\n    File \"/usr/local/lib/python3.10/dist-packages/keras/src/engine/training.py\", line 2381, in predict_step\n        return self(x, training=False)\n    File \"/usr/local/lib/python3.10/dist-packages/keras/src/utils/traceback_utils.py\", line 70, in error_handler\n        raise e.with_traceback(filtered_tb) from None\n    File \"/usr/local/lib/python3.10/dist-packages/keras/src/layers/rnn/base_rnn.py\", line 662, in call\n        timesteps = input_shape[0] if self.time_major else input_shape[1]\n\n    TypeError: Exception encountered when calling layer 'simple_rnn_8' (type SimpleRNN).\n    \n    'NoneType' object is not subscriptable\n    \n    Call arguments received by layer 'simple_rnn_8' (type SimpleRNN):\n      • inputs=tf.Tensor(shape=<unknown>, dtype=float32)\n      • mask=None\n      • training=False\n      • initial_state=None\n"
          ]
        }
      ],
      "source": [
        "simple_RNN_prediction = scaler.inverse_transform(regressor.predict(X_train))\n",
        "LSTM_prediction = scaler.inverse_transform(model_lstm.predict(X_train))\n",
        "print(\"Simple RNN, Open price prediction for 3/18/2017      :\", simple_RNN_prediction[0,0])\n",
        "print(\"LSTM prediction, Open price prediction for 3/18/2017 :\", LSTM_prediction[0,0])"
      ]
    }
  ],
  "metadata": {
    "colab": {
      "provenance": [],
      "collapsed_sections": [
        "3RD-6Eqv-vNP"
      ]
    },
    "kernelspec": {
      "display_name": "Python 3",
      "name": "python3"
    },
    "language_info": {
      "name": "python"
    }
  },
  "nbformat": 4,
  "nbformat_minor": 0
}